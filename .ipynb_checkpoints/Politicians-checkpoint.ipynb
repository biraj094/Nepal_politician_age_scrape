{
 "cells": [
  {
   "cell_type": "code",
   "execution_count": 1,
   "metadata": {},
   "outputs": [],
   "source": [
    "import urllib\n",
    "import requests\n",
    "from bs4 import BeautifulSoup\n",
    "import pandas as pd\n",
    "import re\n",
    "from datetime import datetime, date\n",
    "import random"
   ]
  },
  {
   "cell_type": "markdown",
   "metadata": {},
   "source": [
    "# Link Page"
   ]
  },
  {
   "cell_type": "markdown",
   "metadata": {},
   "source": [
    "<b>Scraping the page where the list of Nepalese Politicians is populated.<b>"
   ]
  },
  {
   "cell_type": "code",
   "execution_count": 2,
   "metadata": {},
   "outputs": [],
   "source": [
    "main_page = requests.get('https://en.wikipedia.org/wiki/List_of_Nepalese_politicians')"
   ]
  },
  {
   "cell_type": "code",
   "execution_count": 3,
   "metadata": {},
   "outputs": [],
   "source": [
    "main_soup = BeautifulSoup(main_page.content,\"html.parser\")"
   ]
  },
  {
   "cell_type": "code",
   "execution_count": 4,
   "metadata": {},
   "outputs": [],
   "source": [
    "# Uncomment the line below to see html of the page\n",
    "# print(main_soup.prettify())"
   ]
  },
  {
   "cell_type": "code",
   "execution_count": 5,
   "metadata": {},
   "outputs": [],
   "source": [
    "wiki_links = [] \n",
    "for link in main_soup.find_all('a',href=True):\n",
    "    wiki_links.append(link['href'])"
   ]
  },
  {
   "cell_type": "code",
   "execution_count": 6,
   "metadata": {},
   "outputs": [
    {
     "data": {
      "text/plain": [
       "['#cite_note-election1-16',\n",
       " '/wiki/Hasina_Miya',\n",
       " 'https://web.archive.org/web/20061012034141/http://www.election-commission.org.np/toptwo.php',\n",
       " '/wiki/Ghan_Shyam_Yadav_Ahir',\n",
       " '#cite_ref-election-commission4_13-8',\n",
       " '/wiki/Wayback_Machine',\n",
       " '#cite_ref-119',\n",
       " '/wiki/Sebaki_Devi_Das_Tatma',\n",
       " '/wiki/Khadga_Prasad_Oli',\n",
       " '#cite_note-election1-16']"
      ]
     },
     "execution_count": 6,
     "metadata": {},
     "output_type": "execute_result"
    }
   ],
   "source": [
    "random.sample(wiki_links, 10)"
   ]
  },
  {
   "cell_type": "code",
   "execution_count": 7,
   "metadata": {},
   "outputs": [],
   "source": [
    "import re\n",
    "poli_links = []\n",
    "for s in wiki_links:\n",
    "    if (re.search('\\A/wiki/',s)) != None:\n",
    "        poli_links.append(s)"
   ]
  },
  {
   "cell_type": "code",
   "execution_count": 8,
   "metadata": {},
   "outputs": [
    {
     "data": {
      "text/plain": [
       "['/wiki/Bal_Chandra_Poudel',\n",
       " '/wiki/Purna_Prasad_Rajbansi',\n",
       " '/wiki/Chitra_Bahadur_K.C.',\n",
       " '/wiki/Bam_Dev_Gautam',\n",
       " '/wiki/Tek_Bahadur_Chokhyal',\n",
       " '/wiki/Sushila_Swar',\n",
       " '/wiki/Ek_Nath_Dhakal',\n",
       " '/wiki/The_Caravan',\n",
       " '/wiki/Bishwodip_Lingden_Limbu',\n",
       " '/wiki/Dev_Raj_Bhar']"
      ]
     },
     "execution_count": 8,
     "metadata": {},
     "output_type": "execute_result"
    }
   ],
   "source": [
    "random.sample(poli_links, 10)"
   ]
  },
  {
   "cell_type": "markdown",
   "metadata": {},
   "source": [
    "<b>We now have all links from the page (Wikipedia links like About,Home and politician links). We can select the politician links by slicing the list.<b>"
   ]
  },
  {
   "cell_type": "markdown",
   "metadata": {},
   "source": [
    "# Scraping - POC for single link "
   ]
  },
  {
   "cell_type": "markdown",
   "metadata": {},
   "source": [
    "<b> Getting Name and Date of birth of a single Politician. This is done as a proof of concept before writing the final function. </b>"
   ]
  },
  {
   "cell_type": "code",
   "execution_count": 9,
   "metadata": {},
   "outputs": [],
   "source": [
    "page = requests.get('https://en.wikipedia.org/wiki/Girija_Prasad_Koirala')"
   ]
  },
  {
   "cell_type": "code",
   "execution_count": 10,
   "metadata": {},
   "outputs": [],
   "source": [
    "soup_single= BeautifulSoup(page.content,'html.parser')"
   ]
  },
  {
   "cell_type": "code",
   "execution_count": 11,
   "metadata": {},
   "outputs": [],
   "source": [
    "# Uncomment the line below to see html of the page\n",
    "# print(soup_single.prettify())"
   ]
  },
  {
   "cell_type": "markdown",
   "metadata": {},
   "source": [
    "<b>Since the date of birth is stored in the right hand side box of each page, we select that element. </b>"
   ]
  },
  {
   "cell_type": "code",
   "execution_count": 12,
   "metadata": {},
   "outputs": [],
   "source": [
    "box_detail = soup_single.find_all('table',class_=[\"infobox vcard\"])"
   ]
  },
  {
   "cell_type": "code",
   "execution_count": 13,
   "metadata": {},
   "outputs": [],
   "source": [
    "bday = soup_single.find_all('span',class_=[\"bday\"])[0].string"
   ]
  },
  {
   "cell_type": "code",
   "execution_count": 14,
   "metadata": {},
   "outputs": [
    {
     "data": {
      "text/plain": [
       "'1924-07-04'"
      ]
     },
     "execution_count": 14,
     "metadata": {},
     "output_type": "execute_result"
    }
   ],
   "source": [
    "bday"
   ]
  },
  {
   "cell_type": "code",
   "execution_count": 15,
   "metadata": {},
   "outputs": [
    {
     "name": "stdout",
     "output_type": "stream",
     "text": [
      "20 March 2010\n"
     ]
    }
   ],
   "source": [
    "print (soup_single.find(text=\"Died\").findNext('td').contents[0])"
   ]
  },
  {
   "cell_type": "markdown",
   "metadata": {},
   "source": [
    "# Function"
   ]
  },
  {
   "cell_type": "code",
   "execution_count": 16,
   "metadata": {},
   "outputs": [],
   "source": [
    "def scrapebirth(links):\n",
    "    df = pd.DataFrame(columns=['Name','DOB','DOD'])\n",
    "    for l in links:\n",
    "        link = \"https://en.wikipedia.org\"+l \n",
    "        page = requests.get(link)\n",
    "        soup = BeautifulSoup(page.content, \"html.parser\")\n",
    "        \n",
    "        name = soup.find_all('title')[0].string\n",
    "        try:\n",
    "            bday = soup.find_all('span',class_=[\"bday\"])[0].string\n",
    "        except IndexError:\n",
    "            bday = \"\"\n",
    "#             print('IndexError')\n",
    "        try:\n",
    "            death = soup.find(text=\"Died\").findNext('td').contents[0]\n",
    "        except AttributeError:\n",
    "            death = \"\"\n",
    "#             print('AttributeError')\n",
    "        df = df.append({'Name': name,'DOB':bday,'DOD':death},ignore_index=True)\n",
    "        link = \"\"\n",
    "    return df"
   ]
  },
  {
   "cell_type": "markdown",
   "metadata": {},
   "source": [
    "<h3>The following line scrapes all links. Computation may take few minutes.</h3>"
   ]
  },
  {
   "cell_type": "code",
   "execution_count": 17,
   "metadata": {},
   "outputs": [],
   "source": [
    "my_df = scrapebirth(poli_links)"
   ]
  },
  {
   "cell_type": "code",
   "execution_count": 18,
   "metadata": {},
   "outputs": [
    {
     "data": {
      "text/html": [
       "<div>\n",
       "<style scoped>\n",
       "    .dataframe tbody tr th:only-of-type {\n",
       "        vertical-align: middle;\n",
       "    }\n",
       "\n",
       "    .dataframe tbody tr th {\n",
       "        vertical-align: top;\n",
       "    }\n",
       "\n",
       "    .dataframe thead th {\n",
       "        text-align: right;\n",
       "    }\n",
       "</style>\n",
       "<table border=\"1\" class=\"dataframe\">\n",
       "  <thead>\n",
       "    <tr style=\"text-align: right;\">\n",
       "      <th></th>\n",
       "      <th>Name</th>\n",
       "      <th>DOB</th>\n",
       "      <th>DOD</th>\n",
       "    </tr>\n",
       "  </thead>\n",
       "  <tbody>\n",
       "    <tr>\n",
       "      <td>91</td>\n",
       "      <td>Sher Bahadur Deuba - Wikipedia</td>\n",
       "      <td>1946-09-12</td>\n",
       "      <td></td>\n",
       "    </tr>\n",
       "    <tr>\n",
       "      <td>94</td>\n",
       "      <td>Ramnath Dhakal - Wikipedia</td>\n",
       "      <td></td>\n",
       "      <td></td>\n",
       "    </tr>\n",
       "    <tr>\n",
       "      <td>141</td>\n",
       "      <td>Chitra Bahadur K.C. - Wikipedia</td>\n",
       "      <td></td>\n",
       "      <td></td>\n",
       "    </tr>\n",
       "    <tr>\n",
       "      <td>289</td>\n",
       "      <td>Ganesh Man Singh - Wikipedia</td>\n",
       "      <td></td>\n",
       "      <td>September 18, 1997</td>\n",
       "    </tr>\n",
       "    <tr>\n",
       "      <td>168</td>\n",
       "      <td>Dan Bahadur Kurmi - Wikipedia</td>\n",
       "      <td></td>\n",
       "      <td></td>\n",
       "    </tr>\n",
       "    <tr>\n",
       "      <td>18</td>\n",
       "      <td>Ghan Shyam Yadav Ahir - Wikipedia</td>\n",
       "      <td></td>\n",
       "      <td></td>\n",
       "    </tr>\n",
       "    <tr>\n",
       "      <td>190</td>\n",
       "      <td>Sapana Pradhan Malla - Wikipedia</td>\n",
       "      <td></td>\n",
       "      <td></td>\n",
       "    </tr>\n",
       "    <tr>\n",
       "      <td>134</td>\n",
       "      <td>Govinda Raj Joshi - Wikipedia</td>\n",
       "      <td>1949-08-12</td>\n",
       "      <td></td>\n",
       "    </tr>\n",
       "    <tr>\n",
       "      <td>65</td>\n",
       "      <td>Binayadhoj Chand - Wikipedia</td>\n",
       "      <td></td>\n",
       "      <td></td>\n",
       "    </tr>\n",
       "    <tr>\n",
       "      <td>152</td>\n",
       "      <td>Rajendra Kumar KC - Wikipedia</td>\n",
       "      <td></td>\n",
       "      <td></td>\n",
       "    </tr>\n",
       "  </tbody>\n",
       "</table>\n",
       "</div>"
      ],
      "text/plain": [
       "                                  Name         DOB                 DOD\n",
       "91      Sher Bahadur Deuba - Wikipedia  1946-09-12                    \n",
       "94          Ramnath Dhakal - Wikipedia                                \n",
       "141    Chitra Bahadur K.C. - Wikipedia                                \n",
       "289       Ganesh Man Singh - Wikipedia              September 18, 1997\n",
       "168      Dan Bahadur Kurmi - Wikipedia                                \n",
       "18   Ghan Shyam Yadav Ahir - Wikipedia                                \n",
       "190   Sapana Pradhan Malla - Wikipedia                                \n",
       "134      Govinda Raj Joshi - Wikipedia  1949-08-12                    \n",
       "65        Binayadhoj Chand - Wikipedia                                \n",
       "152      Rajendra Kumar KC - Wikipedia                                "
      ]
     },
     "execution_count": 18,
     "metadata": {},
     "output_type": "execute_result"
    }
   ],
   "source": [
    "my_df.sample(10)"
   ]
  },
  {
   "cell_type": "markdown",
   "metadata": {},
   "source": [
    "## Clean dataframe"
   ]
  },
  {
   "cell_type": "code",
   "execution_count": 19,
   "metadata": {},
   "outputs": [],
   "source": [
    "my_df = my_df[my_df['DOB'].astype(bool)]"
   ]
  },
  {
   "cell_type": "code",
   "execution_count": 20,
   "metadata": {},
   "outputs": [],
   "source": [
    "my_df = my_df[:-18]"
   ]
  },
  {
   "cell_type": "code",
   "execution_count": 21,
   "metadata": {},
   "outputs": [],
   "source": [
    "df_poli = my_df.copy()"
   ]
  },
  {
   "cell_type": "code",
   "execution_count": 22,
   "metadata": {},
   "outputs": [],
   "source": [
    "df_poli['Name'] = df_poli['Name'].apply(lambda x:x[:-12])"
   ]
  },
  {
   "cell_type": "code",
   "execution_count": 23,
   "metadata": {},
   "outputs": [],
   "source": [
    "df_poli.set_index('Name',inplace=True)"
   ]
  },
  {
   "cell_type": "markdown",
   "metadata": {},
   "source": [
    "<h3>Filter politician that are dead</h3>"
   ]
  },
  {
   "cell_type": "code",
   "execution_count": 24,
   "metadata": {},
   "outputs": [
    {
     "data": {
      "text/html": [
       "<div>\n",
       "<style scoped>\n",
       "    .dataframe tbody tr th:only-of-type {\n",
       "        vertical-align: middle;\n",
       "    }\n",
       "\n",
       "    .dataframe tbody tr th {\n",
       "        vertical-align: top;\n",
       "    }\n",
       "\n",
       "    .dataframe thead th {\n",
       "        text-align: right;\n",
       "    }\n",
       "</style>\n",
       "<table border=\"1\" class=\"dataframe\">\n",
       "  <thead>\n",
       "    <tr style=\"text-align: right;\">\n",
       "      <th></th>\n",
       "      <th>DOB</th>\n",
       "      <th>DOD</th>\n",
       "    </tr>\n",
       "    <tr>\n",
       "      <th>Name</th>\n",
       "      <th></th>\n",
       "      <th></th>\n",
       "    </tr>\n",
       "  </thead>\n",
       "  <tbody>\n",
       "    <tr>\n",
       "      <td>Post Bahadur Bogati</td>\n",
       "      <td>1953-07-18</td>\n",
       "      <td>15 September 2014</td>\n",
       "    </tr>\n",
       "    <tr>\n",
       "      <td>Bhagwan Das Gupta</td>\n",
       "      <td>1940-01-01</td>\n",
       "      <td>15 November 1998</td>\n",
       "    </tr>\n",
       "    <tr>\n",
       "      <td>Sushil Koirala</td>\n",
       "      <td>1939-08-12</td>\n",
       "      <td>9 February 2016</td>\n",
       "    </tr>\n",
       "    <tr>\n",
       "      <td>Dil Bahadur Lama</td>\n",
       "      <td>1930-03-21</td>\n",
       "      <td>25 March 2014</td>\n",
       "    </tr>\n",
       "    <tr>\n",
       "      <td>Bidhyanath Pokhrel</td>\n",
       "      <td>1918-06-09</td>\n",
       "      <td>25 August 1994</td>\n",
       "    </tr>\n",
       "    <tr>\n",
       "      <td>Sahana Pradhan</td>\n",
       "      <td>1927-06-17</td>\n",
       "      <td>22 September 2014</td>\n",
       "    </tr>\n",
       "    <tr>\n",
       "      <td>Ganesh Prasad Rijal</td>\n",
       "      <td>1920-05-11</td>\n",
       "      <td>4 April 1998</td>\n",
       "    </tr>\n",
       "    <tr>\n",
       "      <td>Surya Bahadur Thapa</td>\n",
       "      <td>1928-03-21</td>\n",
       "      <td>15 April 2015</td>\n",
       "    </tr>\n",
       "  </tbody>\n",
       "</table>\n",
       "</div>"
      ],
      "text/plain": [
       "                            DOB                DOD\n",
       "Name                                              \n",
       "Post Bahadur Bogati  1953-07-18  15 September 2014\n",
       "Bhagwan Das Gupta    1940-01-01   15 November 1998\n",
       "Sushil Koirala       1939-08-12    9 February 2016\n",
       "Dil Bahadur Lama     1930-03-21      25 March 2014\n",
       "Bidhyanath Pokhrel   1918-06-09     25 August 1994\n",
       "Sahana Pradhan       1927-06-17  22 September 2014\n",
       "Ganesh Prasad Rijal  1920-05-11       4 April 1998\n",
       "Surya Bahadur Thapa  1928-03-21      15 April 2015"
      ]
     },
     "execution_count": 24,
     "metadata": {},
     "output_type": "execute_result"
    }
   ],
   "source": [
    "dead_poli = df_poli[df_poli.astype(str)['DOD'] != '']\n",
    "dead_poli"
   ]
  },
  {
   "cell_type": "code",
   "execution_count": 25,
   "metadata": {},
   "outputs": [
    {
     "data": {
      "text/html": [
       "<div>\n",
       "<style scoped>\n",
       "    .dataframe tbody tr th:only-of-type {\n",
       "        vertical-align: middle;\n",
       "    }\n",
       "\n",
       "    .dataframe tbody tr th {\n",
       "        vertical-align: top;\n",
       "    }\n",
       "\n",
       "    .dataframe thead th {\n",
       "        text-align: right;\n",
       "    }\n",
       "</style>\n",
       "<table border=\"1\" class=\"dataframe\">\n",
       "  <thead>\n",
       "    <tr style=\"text-align: right;\">\n",
       "      <th></th>\n",
       "      <th>DOB</th>\n",
       "      <th>DOD</th>\n",
       "    </tr>\n",
       "    <tr>\n",
       "      <th>Name</th>\n",
       "      <th></th>\n",
       "      <th></th>\n",
       "    </tr>\n",
       "  </thead>\n",
       "  <tbody>\n",
       "    <tr>\n",
       "      <td>Bhim Acharya</td>\n",
       "      <td>1959-04-27</td>\n",
       "      <td></td>\n",
       "    </tr>\n",
       "    <tr>\n",
       "      <td>Mahesh Acharya</td>\n",
       "      <td>1954-08-06</td>\n",
       "      <td></td>\n",
       "    </tr>\n",
       "    <tr>\n",
       "      <td>Narahari Acharya</td>\n",
       "      <td>1953-09-27</td>\n",
       "      <td></td>\n",
       "    </tr>\n",
       "    <tr>\n",
       "      <td>Dilendra Prasad Badu</td>\n",
       "      <td>1954-01-09</td>\n",
       "      <td></td>\n",
       "    </tr>\n",
       "    <tr>\n",
       "      <td>Khadgajeet Baral</td>\n",
       "      <td>1928-04-17</td>\n",
       "      <td></td>\n",
       "    </tr>\n",
       "  </tbody>\n",
       "</table>\n",
       "</div>"
      ],
      "text/plain": [
       "                             DOB DOD\n",
       "Name                                \n",
       "Bhim Acharya          1959-04-27    \n",
       "Mahesh Acharya        1954-08-06    \n",
       "Narahari Acharya      1953-09-27    \n",
       "Dilendra Prasad Badu  1954-01-09    \n",
       "Khadgajeet Baral      1928-04-17    "
      ]
     },
     "execution_count": 25,
     "metadata": {},
     "output_type": "execute_result"
    }
   ],
   "source": [
    "alive_poli = df_poli[~df_poli.index.isin(dead_poli.index)]\n",
    "alive_poli.head()"
   ]
  },
  {
   "cell_type": "code",
   "execution_count": 26,
   "metadata": {},
   "outputs": [],
   "source": [
    "def calculate_age(born):\n",
    "    b= datetime.strptime(born, '%Y-%m-%d')\n",
    "    today = date.today()\n",
    "    return today.year-b.year-((today.month, today.day) < (b.month, b.day))"
   ]
  },
  {
   "cell_type": "code",
   "execution_count": 27,
   "metadata": {
    "scrolled": true
   },
   "outputs": [],
   "source": [
    "final_df = alive_poli.copy()\n",
    "final_df['Age']= final_df['DOB'].apply(lambda x: calculate_age(x))"
   ]
  },
  {
   "cell_type": "code",
   "execution_count": 28,
   "metadata": {},
   "outputs": [
    {
     "data": {
      "text/plain": [
       "(54, 3)"
      ]
     },
     "execution_count": 28,
     "metadata": {},
     "output_type": "execute_result"
    }
   ],
   "source": [
    "final_df.shape"
   ]
  },
  {
   "cell_type": "code",
   "execution_count": 29,
   "metadata": {},
   "outputs": [
    {
     "data": {
      "text/html": [
       "<div>\n",
       "<style scoped>\n",
       "    .dataframe tbody tr th:only-of-type {\n",
       "        vertical-align: middle;\n",
       "    }\n",
       "\n",
       "    .dataframe tbody tr th {\n",
       "        vertical-align: top;\n",
       "    }\n",
       "\n",
       "    .dataframe thead th {\n",
       "        text-align: right;\n",
       "    }\n",
       "</style>\n",
       "<table border=\"1\" class=\"dataframe\">\n",
       "  <thead>\n",
       "    <tr style=\"text-align: right;\">\n",
       "      <th></th>\n",
       "      <th>DOB</th>\n",
       "      <th>DOD</th>\n",
       "      <th>Age</th>\n",
       "    </tr>\n",
       "    <tr>\n",
       "      <th>Name</th>\n",
       "      <th></th>\n",
       "      <th></th>\n",
       "      <th></th>\n",
       "    </tr>\n",
       "  </thead>\n",
       "  <tbody>\n",
       "    <tr>\n",
       "      <td>Bhim Acharya</td>\n",
       "      <td>1959-04-27</td>\n",
       "      <td></td>\n",
       "      <td>61</td>\n",
       "    </tr>\n",
       "    <tr>\n",
       "      <td>Mahesh Acharya</td>\n",
       "      <td>1954-08-06</td>\n",
       "      <td></td>\n",
       "      <td>66</td>\n",
       "    </tr>\n",
       "    <tr>\n",
       "      <td>Narahari Acharya</td>\n",
       "      <td>1953-09-27</td>\n",
       "      <td></td>\n",
       "      <td>67</td>\n",
       "    </tr>\n",
       "    <tr>\n",
       "      <td>Dilendra Prasad Badu</td>\n",
       "      <td>1954-01-09</td>\n",
       "      <td></td>\n",
       "      <td>66</td>\n",
       "    </tr>\n",
       "    <tr>\n",
       "      <td>Khadgajeet Baral</td>\n",
       "      <td>1928-04-17</td>\n",
       "      <td></td>\n",
       "      <td>92</td>\n",
       "    </tr>\n",
       "    <tr>\n",
       "      <td>Shakti Bahadur Basnet</td>\n",
       "      <td>1971-04-14</td>\n",
       "      <td></td>\n",
       "      <td>49</td>\n",
       "    </tr>\n",
       "    <tr>\n",
       "      <td>Damodar Bhandari</td>\n",
       "      <td>1973-11-05</td>\n",
       "      <td></td>\n",
       "      <td>46</td>\n",
       "    </tr>\n",
       "    <tr>\n",
       "      <td>Dev Raj Bhar</td>\n",
       "      <td>1952-01-29</td>\n",
       "      <td></td>\n",
       "      <td>68</td>\n",
       "    </tr>\n",
       "    <tr>\n",
       "      <td>Lekh Raj Bhatta</td>\n",
       "      <td>1960-03-24</td>\n",
       "      <td></td>\n",
       "      <td>60</td>\n",
       "    </tr>\n",
       "    <tr>\n",
       "      <td>Baburam Bhattarai</td>\n",
       "      <td>1954-06-18</td>\n",
       "      <td></td>\n",
       "      <td>66</td>\n",
       "    </tr>\n",
       "    <tr>\n",
       "      <td>Narayan Man Bijukchhe</td>\n",
       "      <td>1939-03-09</td>\n",
       "      <td></td>\n",
       "      <td>81</td>\n",
       "    </tr>\n",
       "    <tr>\n",
       "      <td>Khadga Bahadur Bishwakarma</td>\n",
       "      <td>1968-05-17</td>\n",
       "      <td></td>\n",
       "      <td>52</td>\n",
       "    </tr>\n",
       "    <tr>\n",
       "      <td>Nar Bahadur Chand</td>\n",
       "      <td>1962-08-29</td>\n",
       "      <td></td>\n",
       "      <td>58</td>\n",
       "    </tr>\n",
       "    <tr>\n",
       "      <td>Ranju Darshana</td>\n",
       "      <td>1996-03-03</td>\n",
       "      <td></td>\n",
       "      <td>24</td>\n",
       "    </tr>\n",
       "    <tr>\n",
       "      <td>Arzu Rana Deuba</td>\n",
       "      <td>1962-01-26</td>\n",
       "      <td></td>\n",
       "      <td>58</td>\n",
       "    </tr>\n",
       "    <tr>\n",
       "      <td>Sher Bahadur Deuba</td>\n",
       "      <td>1946-09-12</td>\n",
       "      <td></td>\n",
       "      <td>74</td>\n",
       "    </tr>\n",
       "    <tr>\n",
       "      <td>Bam Dev Gautam</td>\n",
       "      <td>1948-07-09</td>\n",
       "      <td></td>\n",
       "      <td>72</td>\n",
       "    </tr>\n",
       "    <tr>\n",
       "      <td>Kul Bahadur Gurung</td>\n",
       "      <td>1935-11-23</td>\n",
       "      <td></td>\n",
       "      <td>84</td>\n",
       "    </tr>\n",
       "    <tr>\n",
       "      <td>Tek Bahadur Gurung</td>\n",
       "      <td>1954-11-26</td>\n",
       "      <td></td>\n",
       "      <td>65</td>\n",
       "    </tr>\n",
       "    <tr>\n",
       "      <td>Anil Kumar Jha</td>\n",
       "      <td>1967-09-30</td>\n",
       "      <td></td>\n",
       "      <td>53</td>\n",
       "    </tr>\n",
       "    <tr>\n",
       "      <td>Govinda Raj Joshi</td>\n",
       "      <td>1949-08-12</td>\n",
       "      <td></td>\n",
       "      <td>71</td>\n",
       "    </tr>\n",
       "    <tr>\n",
       "      <td>Nabindra Raj Joshi</td>\n",
       "      <td>1964-01-08</td>\n",
       "      <td></td>\n",
       "      <td>56</td>\n",
       "    </tr>\n",
       "    <tr>\n",
       "      <td>Ram Karki</td>\n",
       "      <td>1956-10-16</td>\n",
       "      <td></td>\n",
       "      <td>64</td>\n",
       "    </tr>\n",
       "    <tr>\n",
       "      <td>Sushila Karki</td>\n",
       "      <td>1952-06-07</td>\n",
       "      <td></td>\n",
       "      <td>68</td>\n",
       "    </tr>\n",
       "    <tr>\n",
       "      <td>Narayan Khadka</td>\n",
       "      <td>1949-03-20</td>\n",
       "      <td></td>\n",
       "      <td>71</td>\n",
       "    </tr>\n",
       "    <tr>\n",
       "      <td>Jhala Nath Khanal</td>\n",
       "      <td>1950-05-20</td>\n",
       "      <td></td>\n",
       "      <td>70</td>\n",
       "    </tr>\n",
       "    <tr>\n",
       "      <td>Shekhar Koirala</td>\n",
       "      <td>1950-08-25</td>\n",
       "      <td></td>\n",
       "      <td>70</td>\n",
       "    </tr>\n",
       "    <tr>\n",
       "      <td>Krishna Bahadur Mahara</td>\n",
       "      <td>1958-06-29</td>\n",
       "      <td></td>\n",
       "      <td>62</td>\n",
       "    </tr>\n",
       "    <tr>\n",
       "      <td>Chandra Maharjan</td>\n",
       "      <td>1954-11-16</td>\n",
       "      <td></td>\n",
       "      <td>65</td>\n",
       "    </tr>\n",
       "    <tr>\n",
       "      <td>Ram Saran Mahat</td>\n",
       "      <td>1951-01-01</td>\n",
       "      <td></td>\n",
       "      <td>69</td>\n",
       "    </tr>\n",
       "    <tr>\n",
       "      <td>Rajendra Mahato</td>\n",
       "      <td>1958-11-19</td>\n",
       "      <td></td>\n",
       "      <td>61</td>\n",
       "    </tr>\n",
       "    <tr>\n",
       "      <td>Radha Krishna Mainali</td>\n",
       "      <td>1946-09-26</td>\n",
       "      <td></td>\n",
       "      <td>74</td>\n",
       "    </tr>\n",
       "    <tr>\n",
       "      <td>Salma Khatoon Mikrani</td>\n",
       "      <td>1976-01-25</td>\n",
       "      <td></td>\n",
       "      <td>44</td>\n",
       "    </tr>\n",
       "    <tr>\n",
       "      <td>Madhav Kumar Nepal</td>\n",
       "      <td>1953-03-06</td>\n",
       "      <td></td>\n",
       "      <td>67</td>\n",
       "    </tr>\n",
       "    <tr>\n",
       "      <td>KP Sharma Oli</td>\n",
       "      <td>1952-02-22</td>\n",
       "      <td></td>\n",
       "      <td>68</td>\n",
       "    </tr>\n",
       "    <tr>\n",
       "      <td>Bal Chandra Poudel</td>\n",
       "      <td>1959-06-22</td>\n",
       "      <td></td>\n",
       "      <td>61</td>\n",
       "    </tr>\n",
       "    <tr>\n",
       "      <td>Binda Pandey</td>\n",
       "      <td>1966-12-30</td>\n",
       "      <td></td>\n",
       "      <td>53</td>\n",
       "    </tr>\n",
       "    <tr>\n",
       "      <td>Surendra Pandey</td>\n",
       "      <td>1958-08-25</td>\n",
       "      <td></td>\n",
       "      <td>62</td>\n",
       "    </tr>\n",
       "    <tr>\n",
       "      <td>Tilak Pariyar</td>\n",
       "      <td>1943-10-31</td>\n",
       "      <td></td>\n",
       "      <td>76</td>\n",
       "    </tr>\n",
       "    <tr>\n",
       "      <td>Ananta Prasad Paudel</td>\n",
       "      <td>1962-07-28</td>\n",
       "      <td></td>\n",
       "      <td>58</td>\n",
       "    </tr>\n",
       "    <tr>\n",
       "      <td>Bishnu Prasad Paudel</td>\n",
       "      <td>1959-11-20</td>\n",
       "      <td></td>\n",
       "      <td>60</td>\n",
       "    </tr>\n",
       "    <tr>\n",
       "      <td>Shankar Pokharel</td>\n",
       "      <td>1963-02-27</td>\n",
       "      <td></td>\n",
       "      <td>57</td>\n",
       "    </tr>\n",
       "    <tr>\n",
       "      <td>Sher Dhan Rai</td>\n",
       "      <td>1971-02-23</td>\n",
       "      <td></td>\n",
       "      <td>49</td>\n",
       "    </tr>\n",
       "    <tr>\n",
       "      <td>Lal Bahadur Rawal</td>\n",
       "      <td>1963-02-02</td>\n",
       "      <td></td>\n",
       "      <td>57</td>\n",
       "    </tr>\n",
       "    <tr>\n",
       "      <td>Minendra Rijal</td>\n",
       "      <td>1957-10-01</td>\n",
       "      <td></td>\n",
       "      <td>63</td>\n",
       "    </tr>\n",
       "    <tr>\n",
       "      <td>Agni Sapkota</td>\n",
       "      <td>1958-03-07</td>\n",
       "      <td></td>\n",
       "      <td>62</td>\n",
       "    </tr>\n",
       "    <tr>\n",
       "      <td>Prakash Man Singh</td>\n",
       "      <td>1956-04-03</td>\n",
       "      <td></td>\n",
       "      <td>64</td>\n",
       "    </tr>\n",
       "    <tr>\n",
       "      <td>Dal Bahadur Sunar</td>\n",
       "      <td>1959-10-01</td>\n",
       "      <td></td>\n",
       "      <td>61</td>\n",
       "    </tr>\n",
       "    <tr>\n",
       "      <td>Surya Man Dong Tamang</td>\n",
       "      <td>1970-04-20</td>\n",
       "      <td></td>\n",
       "      <td>50</td>\n",
       "    </tr>\n",
       "    <tr>\n",
       "      <td>Gagan Thapa</td>\n",
       "      <td>1976-07-16</td>\n",
       "      <td></td>\n",
       "      <td>44</td>\n",
       "    </tr>\n",
       "    <tr>\n",
       "      <td>Hridayesh Tripathi</td>\n",
       "      <td>1959-06-18</td>\n",
       "      <td></td>\n",
       "      <td>61</td>\n",
       "    </tr>\n",
       "    <tr>\n",
       "      <td>Amod Prasad Upadhyay</td>\n",
       "      <td>1936-03-29</td>\n",
       "      <td></td>\n",
       "      <td>84</td>\n",
       "    </tr>\n",
       "    <tr>\n",
       "      <td>Ram Baran Yadav</td>\n",
       "      <td>1948-02-04</td>\n",
       "      <td></td>\n",
       "      <td>72</td>\n",
       "    </tr>\n",
       "    <tr>\n",
       "      <td>Upendra Yadav</td>\n",
       "      <td>1960-12-11</td>\n",
       "      <td></td>\n",
       "      <td>59</td>\n",
       "    </tr>\n",
       "  </tbody>\n",
       "</table>\n",
       "</div>"
      ],
      "text/plain": [
       "                                   DOB DOD  Age\n",
       "Name                                           \n",
       "Bhim Acharya                1959-04-27       61\n",
       "Mahesh Acharya              1954-08-06       66\n",
       "Narahari Acharya            1953-09-27       67\n",
       "Dilendra Prasad Badu        1954-01-09       66\n",
       "Khadgajeet Baral            1928-04-17       92\n",
       "Shakti Bahadur Basnet       1971-04-14       49\n",
       "Damodar Bhandari            1973-11-05       46\n",
       "Dev Raj Bhar                1952-01-29       68\n",
       "Lekh Raj Bhatta             1960-03-24       60\n",
       "Baburam Bhattarai           1954-06-18       66\n",
       "Narayan Man Bijukchhe       1939-03-09       81\n",
       "Khadga Bahadur Bishwakarma  1968-05-17       52\n",
       "Nar Bahadur Chand           1962-08-29       58\n",
       "Ranju Darshana              1996-03-03       24\n",
       "Arzu Rana Deuba             1962-01-26       58\n",
       "Sher Bahadur Deuba          1946-09-12       74\n",
       "Bam Dev Gautam              1948-07-09       72\n",
       "Kul Bahadur Gurung          1935-11-23       84\n",
       "Tek Bahadur Gurung          1954-11-26       65\n",
       "Anil Kumar Jha              1967-09-30       53\n",
       "Govinda Raj Joshi           1949-08-12       71\n",
       "Nabindra Raj Joshi          1964-01-08       56\n",
       "Ram Karki                   1956-10-16       64\n",
       "Sushila Karki               1952-06-07       68\n",
       "Narayan Khadka              1949-03-20       71\n",
       "Jhala Nath Khanal           1950-05-20       70\n",
       "Shekhar Koirala             1950-08-25       70\n",
       "Krishna Bahadur Mahara      1958-06-29       62\n",
       "Chandra Maharjan            1954-11-16       65\n",
       "Ram Saran Mahat             1951-01-01       69\n",
       "Rajendra Mahato             1958-11-19       61\n",
       "Radha Krishna Mainali       1946-09-26       74\n",
       "Salma Khatoon Mikrani       1976-01-25       44\n",
       "Madhav Kumar Nepal          1953-03-06       67\n",
       "KP Sharma Oli               1952-02-22       68\n",
       "Bal Chandra Poudel          1959-06-22       61\n",
       "Binda Pandey                1966-12-30       53\n",
       "Surendra Pandey             1958-08-25       62\n",
       "Tilak Pariyar               1943-10-31       76\n",
       "Ananta Prasad Paudel        1962-07-28       58\n",
       "Bishnu Prasad Paudel        1959-11-20       60\n",
       "Shankar Pokharel            1963-02-27       57\n",
       "Sher Dhan Rai               1971-02-23       49\n",
       "Lal Bahadur Rawal           1963-02-02       57\n",
       "Minendra Rijal              1957-10-01       63\n",
       "Agni Sapkota                1958-03-07       62\n",
       "Prakash Man Singh           1956-04-03       64\n",
       "Dal Bahadur Sunar           1959-10-01       61\n",
       "Surya Man Dong Tamang       1970-04-20       50\n",
       "Gagan Thapa                 1976-07-16       44\n",
       "Hridayesh Tripathi          1959-06-18       61\n",
       "Amod Prasad Upadhyay        1936-03-29       84\n",
       "Ram Baran Yadav             1948-02-04       72\n",
       "Upendra Yadav               1960-12-11       59"
      ]
     },
     "execution_count": 29,
     "metadata": {},
     "output_type": "execute_result"
    }
   ],
   "source": [
    "final_df"
   ]
  },
  {
   "cell_type": "code",
   "execution_count": 30,
   "metadata": {},
   "outputs": [
    {
     "data": {
      "text/plain": [
       "62.5"
      ]
     },
     "execution_count": 30,
     "metadata": {},
     "output_type": "execute_result"
    }
   ],
   "source": [
    "final_df['Age'].median()"
   ]
  },
  {
   "cell_type": "code",
   "execution_count": 31,
   "metadata": {},
   "outputs": [
    {
     "data": {
      "text/plain": [
       "62.870370370370374"
      ]
     },
     "execution_count": 31,
     "metadata": {},
     "output_type": "execute_result"
    }
   ],
   "source": [
    "final_df['Age'].mean()"
   ]
  },
  {
   "cell_type": "code",
   "execution_count": 32,
   "metadata": {},
   "outputs": [
    {
     "data": {
      "text/plain": [
       "54"
      ]
     },
     "execution_count": 32,
     "metadata": {},
     "output_type": "execute_result"
    }
   ],
   "source": [
    "final_df['Age'].count()"
   ]
  },
  {
   "cell_type": "code",
   "execution_count": 33,
   "metadata": {},
   "outputs": [],
   "source": [
    "df_poli.replace('','NA').to_csv('politician.csv')"
   ]
  },
  {
   "cell_type": "code",
   "execution_count": null,
   "metadata": {},
   "outputs": [],
   "source": []
  }
 ],
 "metadata": {
  "kernelspec": {
   "display_name": "Python 3",
   "language": "python",
   "name": "python3"
  },
  "language_info": {
   "codemirror_mode": {
    "name": "ipython",
    "version": 3
   },
   "file_extension": ".py",
   "mimetype": "text/x-python",
   "name": "python",
   "nbconvert_exporter": "python",
   "pygments_lexer": "ipython3",
   "version": "3.7.4"
  }
 },
 "nbformat": 4,
 "nbformat_minor": 2
}
