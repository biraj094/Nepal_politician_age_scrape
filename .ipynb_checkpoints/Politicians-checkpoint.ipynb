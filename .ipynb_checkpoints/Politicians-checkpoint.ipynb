{
 "cells": [
  {
   "cell_type": "code",
   "execution_count": 1,
   "metadata": {},
   "outputs": [],
   "source": [
    "import urllib\n",
    "import requests\n",
    "from bs4 import BeautifulSoup\n",
    "import pandas as pd\n",
    "import re\n",
    "from datetime import datetime, date\n",
    "import random"
   ]
  },
  {
   "cell_type": "markdown",
   "metadata": {},
   "source": [
    "# Link Page"
   ]
  },
  {
   "cell_type": "markdown",
   "metadata": {},
   "source": [
    "<b>Scraping the page where the list of Nepalese Politicians is populated.<b>"
   ]
  },
  {
   "cell_type": "code",
   "execution_count": 2,
   "metadata": {},
   "outputs": [],
   "source": [
    "main_page = requests.get('https://en.wikipedia.org/wiki/List_of_Nepalese_politicians')"
   ]
  },
  {
   "cell_type": "code",
   "execution_count": 3,
   "metadata": {},
   "outputs": [],
   "source": [
    "main_soup = BeautifulSoup(main_page.content,\"html.parser\")"
   ]
  },
  {
   "cell_type": "code",
   "execution_count": 4,
   "metadata": {},
   "outputs": [],
   "source": [
    "# Uncomment the line below to see html of the page\n",
    "# print(main_soup.prettify())"
   ]
  },
  {
   "cell_type": "code",
   "execution_count": 5,
   "metadata": {},
   "outputs": [],
   "source": [
    "wiki_links = [] \n",
    "for link in main_soup.find_all('a',href=True):\n",
    "    wiki_links.append(link['href'])"
   ]
  },
  {
   "cell_type": "code",
   "execution_count": 6,
   "metadata": {},
   "outputs": [
    {
     "data": {
      "text/plain": [
       "['/wiki/Bishal_Khadka',\n",
       " '/wiki/Balbir_Prasad_Chaudhary',\n",
       " '/wiki/Chandra_Prakash_Mainali',\n",
       " '#cite_ref-81',\n",
       " '/wiki/Dama_Kumari_Sharma',\n",
       " 'https://web.archive.org/web/20070927023111/http://www.kantipuronline.com/kolnews.php?&nid=106447',\n",
       " '#cite_ref-election-commission4_13-3',\n",
       " '#cite_ref-election-commission1_1-11',\n",
       " '#cite_ref-123',\n",
       " '#cite_ref-myrepublica10_49-1']"
      ]
     },
     "execution_count": 6,
     "metadata": {},
     "output_type": "execute_result"
    }
   ],
   "source": [
    "random.sample(wiki_links, 10)"
   ]
  },
  {
   "cell_type": "code",
   "execution_count": 7,
   "metadata": {},
   "outputs": [],
   "source": [
    "import re\n",
    "poli_links = []\n",
    "for s in wiki_links:\n",
    "    if (re.search('\\A/wiki/',s)) != None:\n",
    "        poli_links.append(s)"
   ]
  },
  {
   "cell_type": "code",
   "execution_count": 8,
   "metadata": {},
   "outputs": [
    {
     "data": {
      "text/plain": [
       "['/wiki/Wayback_Machine',\n",
       " '/wiki/Category:Articles_with_dead_external_links_from_September_2017',\n",
       " '/wiki/Gobinda_Bahadur_Shah',\n",
       " '/wiki/Basanta_Kumar_Nemwang',\n",
       " '/wiki/Kailash_Nath_Kasudhan',\n",
       " '/wiki/Til_Kumar_Menyangbo_Limbu',\n",
       " '/wiki/Chandra_Lal_Meche',\n",
       " '/wiki/Wikipedia:General_disclaimer',\n",
       " '/wiki/Krishna_Kumar_Chaudhari',\n",
       " '/wiki/Golchhe_Sarki']"
      ]
     },
     "execution_count": 8,
     "metadata": {},
     "output_type": "execute_result"
    }
   ],
   "source": [
    "random.sample(poli_links, 10)"
   ]
  },
  {
   "cell_type": "markdown",
   "metadata": {},
   "source": [
    "<b>We now have all links from the page (Wikipedia links like About,Home and politician links). We can select the politician links by slicing the list.<b>"
   ]
  },
  {
   "cell_type": "markdown",
   "metadata": {},
   "source": [
    "# Scraping - POC for single link "
   ]
  },
  {
   "cell_type": "markdown",
   "metadata": {},
   "source": [
    "<b> Getting Name and Date of birth of a single Politician. This is done as a proof of concept before writing the final function. </b>"
   ]
  },
  {
   "cell_type": "code",
   "execution_count": 9,
   "metadata": {},
   "outputs": [],
   "source": [
    "page = requests.get('https://en.wikipedia.org/wiki/Girija_Prasad_Koirala')"
   ]
  },
  {
   "cell_type": "code",
   "execution_count": 10,
   "metadata": {},
   "outputs": [],
   "source": [
    "soup_single= BeautifulSoup(page.content,'html.parser')"
   ]
  },
  {
   "cell_type": "code",
   "execution_count": 11,
   "metadata": {},
   "outputs": [],
   "source": [
    "# Uncomment the line below to see html of the page\n",
    "# print(soup_single.prettify())"
   ]
  },
  {
   "cell_type": "markdown",
   "metadata": {},
   "source": [
    "<b>Since the date of birth is stored in the right hand side box of each page, we select that element. </b>"
   ]
  },
  {
   "cell_type": "code",
   "execution_count": 12,
   "metadata": {},
   "outputs": [],
   "source": [
    "box_detail = soup_single.find_all('table',class_=[\"infobox vcard\"])"
   ]
  },
  {
   "cell_type": "code",
   "execution_count": 13,
   "metadata": {},
   "outputs": [],
   "source": [
    "bday = soup_single.find_all('span',class_=[\"bday\"])[0].string"
   ]
  },
  {
   "cell_type": "code",
   "execution_count": 14,
   "metadata": {},
   "outputs": [
    {
     "data": {
      "text/plain": [
       "'1924-07-04'"
      ]
     },
     "execution_count": 14,
     "metadata": {},
     "output_type": "execute_result"
    }
   ],
   "source": [
    "bday"
   ]
  },
  {
   "cell_type": "code",
   "execution_count": 15,
   "metadata": {},
   "outputs": [
    {
     "name": "stdout",
     "output_type": "stream",
     "text": [
      "20 March 2010\n"
     ]
    }
   ],
   "source": [
    "print (soup_single.find(text=\"Died\").findNext('td').contents[0])"
   ]
  },
  {
   "cell_type": "markdown",
   "metadata": {},
   "source": [
    "# Function"
   ]
  },
  {
   "cell_type": "code",
   "execution_count": 88,
   "metadata": {},
   "outputs": [],
   "source": [
    "def scrapebirth(links):\n",
    "    df = pd.DataFrame(columns=['Name','Bday','Death'])\n",
    "    for l in links:\n",
    "        link = \"https://en.wikipedia.org\"+l \n",
    "        page = requests.get(link)\n",
    "        soup = BeautifulSoup(page.content, \"html.parser\")\n",
    "        \n",
    "        name = soup.find_all('title')[0].string\n",
    "        try:\n",
    "            bday = soup.find_all('span',class_=[\"bday\"])[0].string\n",
    "        except IndexError:\n",
    "            bday = \"\"\n",
    "#             print('IndexError')\n",
    "        try:\n",
    "            death = soup.find(text=\"Died\").findNext('td').contents[0]\n",
    "        except AttributeError:\n",
    "            death = \"\"\n",
    "#             print('AttributeError')\n",
    "        df = df.append({'Name': name,'Bday':bday,'Death':death},ignore_index=True)\n",
    "        link = \"\"\n",
    "    return df"
   ]
  },
  {
   "cell_type": "code",
   "execution_count": 89,
   "metadata": {},
   "outputs": [],
   "source": [
    "my_df = scrapebirth(poli_links)"
   ]
  },
  {
   "cell_type": "code",
   "execution_count": 90,
   "metadata": {},
   "outputs": [
    {
     "data": {
      "text/html": [
       "<div>\n",
       "<style scoped>\n",
       "    .dataframe tbody tr th:only-of-type {\n",
       "        vertical-align: middle;\n",
       "    }\n",
       "\n",
       "    .dataframe tbody tr th {\n",
       "        vertical-align: top;\n",
       "    }\n",
       "\n",
       "    .dataframe thead th {\n",
       "        text-align: right;\n",
       "    }\n",
       "</style>\n",
       "<table border=\"1\" class=\"dataframe\">\n",
       "  <thead>\n",
       "    <tr style=\"text-align: right;\">\n",
       "      <th></th>\n",
       "      <th>Name</th>\n",
       "      <th>Bday</th>\n",
       "      <th>Death</th>\n",
       "    </tr>\n",
       "  </thead>\n",
       "  <tbody>\n",
       "    <tr>\n",
       "      <td>21</td>\n",
       "      <td>Salim Miya Ansari - Wikipedia</td>\n",
       "      <td></td>\n",
       "      <td></td>\n",
       "    </tr>\n",
       "    <tr>\n",
       "      <td>29</td>\n",
       "      <td>Sudarshan Baral - Wikipedia</td>\n",
       "      <td></td>\n",
       "      <td></td>\n",
       "    </tr>\n",
       "    <tr>\n",
       "      <td>56</td>\n",
       "      <td>Sabitri Bogati (Pathak) - Wikipedia</td>\n",
       "      <td></td>\n",
       "      <td></td>\n",
       "    </tr>\n",
       "    <tr>\n",
       "      <td>296</td>\n",
       "      <td>Sukra Raj Sonyok (Songyokpa) - Wikipedia</td>\n",
       "      <td></td>\n",
       "      <td></td>\n",
       "    </tr>\n",
       "    <tr>\n",
       "      <td>197</td>\n",
       "      <td>Ishwar Dayal Mishra - Wikipedia</td>\n",
       "      <td></td>\n",
       "      <td></td>\n",
       "    </tr>\n",
       "    <tr>\n",
       "      <td>15</td>\n",
       "      <td>Rabindra Prasad Adhikari - Wikipedia</td>\n",
       "      <td></td>\n",
       "      <td>February 27, 2019</td>\n",
       "    </tr>\n",
       "    <tr>\n",
       "      <td>274</td>\n",
       "      <td>Binod Kumar Shah - Wikipedia</td>\n",
       "      <td></td>\n",
       "      <td></td>\n",
       "    </tr>\n",
       "    <tr>\n",
       "      <td>236</td>\n",
       "      <td>Ram Chandra Pokhrel - Wikipedia</td>\n",
       "      <td></td>\n",
       "      <td></td>\n",
       "    </tr>\n",
       "    <tr>\n",
       "      <td>53</td>\n",
       "      <td>Nara Bahadur Bista - Wikipedia</td>\n",
       "      <td></td>\n",
       "      <td></td>\n",
       "    </tr>\n",
       "    <tr>\n",
       "      <td>199</td>\n",
       "      <td>Muhammad Okil Musalman - Wikipedia</td>\n",
       "      <td></td>\n",
       "      <td></td>\n",
       "    </tr>\n",
       "  </tbody>\n",
       "</table>\n",
       "</div>"
      ],
      "text/plain": [
       "                                         Name Bday              Death\n",
       "21              Salim Miya Ansari - Wikipedia                        \n",
       "29                Sudarshan Baral - Wikipedia                        \n",
       "56        Sabitri Bogati (Pathak) - Wikipedia                        \n",
       "296  Sukra Raj Sonyok (Songyokpa) - Wikipedia                        \n",
       "197           Ishwar Dayal Mishra - Wikipedia                        \n",
       "15       Rabindra Prasad Adhikari - Wikipedia       February 27, 2019\n",
       "274              Binod Kumar Shah - Wikipedia                        \n",
       "236           Ram Chandra Pokhrel - Wikipedia                        \n",
       "53             Nara Bahadur Bista - Wikipedia                        \n",
       "199        Muhammad Okil Musalman - Wikipedia                        "
      ]
     },
     "execution_count": 90,
     "metadata": {},
     "output_type": "execute_result"
    }
   ],
   "source": [
    "my_df.sample(10)"
   ]
  },
  {
   "cell_type": "markdown",
   "metadata": {},
   "source": [
    "## Clean dataframe"
   ]
  },
  {
   "cell_type": "code",
   "execution_count": 81,
   "metadata": {},
   "outputs": [],
   "source": [
    "my_df = my_df[my_df['Bday'].astype(bool)]"
   ]
  },
  {
   "cell_type": "code",
   "execution_count": 82,
   "metadata": {},
   "outputs": [],
   "source": [
    "my_df = my_df[:-18]"
   ]
  },
  {
   "cell_type": "code",
   "execution_count": 83,
   "metadata": {},
   "outputs": [],
   "source": [
    "df_poli = my_df.copy()"
   ]
  },
  {
   "cell_type": "code",
   "execution_count": 84,
   "metadata": {},
   "outputs": [],
   "source": [
    "df_poli['Name'] = df_poli['Name'].apply(lambda x:x[:-12])"
   ]
  },
  {
   "cell_type": "code",
   "execution_count": 85,
   "metadata": {},
   "outputs": [],
   "source": [
    "df_poli.set_index('Name',inplace=True)"
   ]
  },
  {
   "cell_type": "markdown",
   "metadata": {},
   "source": [
    "<h3>Filter politician that are dead</h3>"
   ]
  },
  {
   "cell_type": "code",
   "execution_count": 86,
   "metadata": {},
   "outputs": [
    {
     "data": {
      "text/html": [
       "<div>\n",
       "<style scoped>\n",
       "    .dataframe tbody tr th:only-of-type {\n",
       "        vertical-align: middle;\n",
       "    }\n",
       "\n",
       "    .dataframe tbody tr th {\n",
       "        vertical-align: top;\n",
       "    }\n",
       "\n",
       "    .dataframe thead th {\n",
       "        text-align: right;\n",
       "    }\n",
       "</style>\n",
       "<table border=\"1\" class=\"dataframe\">\n",
       "  <thead>\n",
       "    <tr style=\"text-align: right;\">\n",
       "      <th></th>\n",
       "      <th>Bday</th>\n",
       "      <th>Death</th>\n",
       "      <th>Namen</th>\n",
       "    </tr>\n",
       "    <tr>\n",
       "      <th>Name</th>\n",
       "      <th></th>\n",
       "      <th></th>\n",
       "      <th></th>\n",
       "    </tr>\n",
       "  </thead>\n",
       "  <tbody>\n",
       "    <tr>\n",
       "      <td>Post Ba</td>\n",
       "      <td>1953-07-18</td>\n",
       "      <td>15 September 2014</td>\n",
       "      <td>Post Bahadur Bogati</td>\n",
       "    </tr>\n",
       "    <tr>\n",
       "      <td>Bhagw</td>\n",
       "      <td>1940-01-01</td>\n",
       "      <td>15 November 1998</td>\n",
       "      <td>Bhagwan Das Gupta</td>\n",
       "    </tr>\n",
       "  </tbody>\n",
       "</table>\n",
       "</div>"
      ],
      "text/plain": [
       "               Bday              Death                Namen\n",
       "Name                                                       \n",
       "Post Ba  1953-07-18  15 September 2014  Post Bahadur Bogati\n",
       "Bhagw    1940-01-01   15 November 1998    Bhagwan Das Gupta"
      ]
     },
     "execution_count": 86,
     "metadata": {},
     "output_type": "execute_result"
    }
   ],
   "source": [
    "dead_poli = df_poli[df_poli.astype(str)['Death'] != '']\n",
    "dead_poli"
   ]
  },
  {
   "cell_type": "code",
   "execution_count": 87,
   "metadata": {},
   "outputs": [
    {
     "data": {
      "text/html": [
       "<div>\n",
       "<style scoped>\n",
       "    .dataframe tbody tr th:only-of-type {\n",
       "        vertical-align: middle;\n",
       "    }\n",
       "\n",
       "    .dataframe tbody tr th {\n",
       "        vertical-align: top;\n",
       "    }\n",
       "\n",
       "    .dataframe thead th {\n",
       "        text-align: right;\n",
       "    }\n",
       "</style>\n",
       "<table border=\"1\" class=\"dataframe\">\n",
       "  <thead>\n",
       "    <tr style=\"text-align: right;\">\n",
       "      <th></th>\n",
       "      <th>Bday</th>\n",
       "      <th>Death</th>\n",
       "      <th>Namen</th>\n",
       "    </tr>\n",
       "    <tr>\n",
       "      <th>Name</th>\n",
       "      <th></th>\n",
       "      <th></th>\n",
       "      <th></th>\n",
       "    </tr>\n",
       "  </thead>\n",
       "  <tbody>\n",
       "    <tr>\n",
       "      <td></td>\n",
       "      <td>1959-04-27</td>\n",
       "      <td></td>\n",
       "      <td>Bhim Acharya</td>\n",
       "    </tr>\n",
       "    <tr>\n",
       "      <td>Ma</td>\n",
       "      <td>1954-08-06</td>\n",
       "      <td></td>\n",
       "      <td>Mahesh Acharya</td>\n",
       "    </tr>\n",
       "    <tr>\n",
       "      <td>Nara</td>\n",
       "      <td>1953-09-27</td>\n",
       "      <td></td>\n",
       "      <td>Narahari Acharya</td>\n",
       "    </tr>\n",
       "    <tr>\n",
       "      <td>Dilendra</td>\n",
       "      <td>1954-01-09</td>\n",
       "      <td></td>\n",
       "      <td>Dilendra Prasad Badu</td>\n",
       "    </tr>\n",
       "    <tr>\n",
       "      <td>Khad</td>\n",
       "      <td>1928-04-17</td>\n",
       "      <td></td>\n",
       "      <td>Khadgajeet Baral</td>\n",
       "    </tr>\n",
       "  </tbody>\n",
       "</table>\n",
       "</div>"
      ],
      "text/plain": [
       "                Bday Death                 Namen\n",
       "Name                                            \n",
       "          1959-04-27                Bhim Acharya\n",
       "Ma        1954-08-06              Mahesh Acharya\n",
       "Nara      1953-09-27            Narahari Acharya\n",
       "Dilendra  1954-01-09        Dilendra Prasad Badu\n",
       "Khad      1928-04-17            Khadgajeet Baral"
      ]
     },
     "execution_count": 87,
     "metadata": {},
     "output_type": "execute_result"
    }
   ],
   "source": [
    "alive_poli = df_poli[~df_poli.index.isin(dead_poli.index)]\n",
    "alive_poli.head()"
   ]
  },
  {
   "cell_type": "code",
   "execution_count": 60,
   "metadata": {},
   "outputs": [],
   "source": [
    "def calculate_age(born):\n",
    "    b= datetime.strptime(born, '%Y-%m-%d')\n",
    "    today = date.today()\n",
    "    return today.year-b.year-((today.month, today.day) < (b.month, b.day))"
   ]
  },
  {
   "cell_type": "code",
   "execution_count": 61,
   "metadata": {
    "scrolled": true
   },
   "outputs": [],
   "source": [
    "final_df = alive_poli.copy()\n",
    "final_df['Age']= final_df['Bday'].apply(lambda x: calculate_age(x))"
   ]
  },
  {
   "cell_type": "code",
   "execution_count": 69,
   "metadata": {},
   "outputs": [
    {
     "data": {
      "text/plain": [
       "(54, 5)"
      ]
     },
     "execution_count": 69,
     "metadata": {},
     "output_type": "execute_result"
    }
   ],
   "source": [
    "final_df.shape"
   ]
  },
  {
   "cell_type": "code",
   "execution_count": 62,
   "metadata": {},
   "outputs": [
    {
     "data": {
      "text/html": [
       "<div>\n",
       "<style scoped>\n",
       "    .dataframe tbody tr th:only-of-type {\n",
       "        vertical-align: middle;\n",
       "    }\n",
       "\n",
       "    .dataframe tbody tr th {\n",
       "        vertical-align: top;\n",
       "    }\n",
       "\n",
       "    .dataframe thead th {\n",
       "        text-align: right;\n",
       "    }\n",
       "</style>\n",
       "<table border=\"1\" class=\"dataframe\">\n",
       "  <thead>\n",
       "    <tr style=\"text-align: right;\">\n",
       "      <th></th>\n",
       "      <th>Name</th>\n",
       "      <th>Bday</th>\n",
       "      <th>Death</th>\n",
       "      <th>Namen</th>\n",
       "      <th>Age</th>\n",
       "    </tr>\n",
       "  </thead>\n",
       "  <tbody>\n",
       "    <tr>\n",
       "      <td>4</td>\n",
       "      <td>Bhim Acharya</td>\n",
       "      <td>1959-04-27</td>\n",
       "      <td></td>\n",
       "      <td>Bhim Acharya</td>\n",
       "      <td>61</td>\n",
       "    </tr>\n",
       "    <tr>\n",
       "      <td>8</td>\n",
       "      <td>Mahesh Acharya</td>\n",
       "      <td>1954-08-06</td>\n",
       "      <td></td>\n",
       "      <td>Mahesh Acharya</td>\n",
       "      <td>66</td>\n",
       "    </tr>\n",
       "    <tr>\n",
       "      <td>9</td>\n",
       "      <td>Narahari Acharya</td>\n",
       "      <td>1953-09-27</td>\n",
       "      <td></td>\n",
       "      <td>Narahari Acharya</td>\n",
       "      <td>67</td>\n",
       "    </tr>\n",
       "    <tr>\n",
       "      <td>25</td>\n",
       "      <td>Dilendra Prasad Badu</td>\n",
       "      <td>1954-01-09</td>\n",
       "      <td></td>\n",
       "      <td>Dilendra Prasad Badu</td>\n",
       "      <td>66</td>\n",
       "    </tr>\n",
       "    <tr>\n",
       "      <td>28</td>\n",
       "      <td>Khadgajeet Baral</td>\n",
       "      <td>1928-04-17</td>\n",
       "      <td></td>\n",
       "      <td>Khadgajeet Baral</td>\n",
       "      <td>92</td>\n",
       "    </tr>\n",
       "    <tr>\n",
       "      <td>34</td>\n",
       "      <td>Shakti Bahadur Basnet</td>\n",
       "      <td>1971-04-14</td>\n",
       "      <td></td>\n",
       "      <td>Shakti Bahadur Basnet</td>\n",
       "      <td>49</td>\n",
       "    </tr>\n",
       "    <tr>\n",
       "      <td>40</td>\n",
       "      <td>Damodar Bhandari</td>\n",
       "      <td>1973-11-05</td>\n",
       "      <td></td>\n",
       "      <td>Damodar Bhandari</td>\n",
       "      <td>46</td>\n",
       "    </tr>\n",
       "    <tr>\n",
       "      <td>45</td>\n",
       "      <td>Dev Raj Bhar</td>\n",
       "      <td>1952-01-29</td>\n",
       "      <td></td>\n",
       "      <td>Dev Raj Bhar</td>\n",
       "      <td>68</td>\n",
       "    </tr>\n",
       "    <tr>\n",
       "      <td>47</td>\n",
       "      <td>Lekh Raj Bhatta</td>\n",
       "      <td>1960-03-24</td>\n",
       "      <td></td>\n",
       "      <td>Lekh Raj Bhatta</td>\n",
       "      <td>60</td>\n",
       "    </tr>\n",
       "    <tr>\n",
       "      <td>48</td>\n",
       "      <td>Baburam Bhattarai</td>\n",
       "      <td>1954-06-18</td>\n",
       "      <td></td>\n",
       "      <td>Baburam Bhattarai</td>\n",
       "      <td>66</td>\n",
       "    </tr>\n",
       "    <tr>\n",
       "      <td>50</td>\n",
       "      <td>Narayan Man Bijukchhe</td>\n",
       "      <td>1939-03-09</td>\n",
       "      <td></td>\n",
       "      <td>Narayan Man Bijukchhe</td>\n",
       "      <td>81</td>\n",
       "    </tr>\n",
       "    <tr>\n",
       "      <td>51</td>\n",
       "      <td>Khadga Bahadur Bishwakarma</td>\n",
       "      <td>1968-05-17</td>\n",
       "      <td></td>\n",
       "      <td>Khadga Bahadur Bishwakarma</td>\n",
       "      <td>52</td>\n",
       "    </tr>\n",
       "    <tr>\n",
       "      <td>66</td>\n",
       "      <td>Nar Bahadur Chand</td>\n",
       "      <td>1962-08-29</td>\n",
       "      <td></td>\n",
       "      <td>Nar Bahadur Chand</td>\n",
       "      <td>58</td>\n",
       "    </tr>\n",
       "    <tr>\n",
       "      <td>89</td>\n",
       "      <td>Ranju Darshana</td>\n",
       "      <td>1996-03-03</td>\n",
       "      <td></td>\n",
       "      <td>Ranju Darshana</td>\n",
       "      <td>24</td>\n",
       "    </tr>\n",
       "    <tr>\n",
       "      <td>90</td>\n",
       "      <td>Arzu Rana Deuba</td>\n",
       "      <td>1962-01-26</td>\n",
       "      <td></td>\n",
       "      <td>Arzu Rana Deuba</td>\n",
       "      <td>58</td>\n",
       "    </tr>\n",
       "    <tr>\n",
       "      <td>91</td>\n",
       "      <td>Sher Bahadur Deuba</td>\n",
       "      <td>1946-09-12</td>\n",
       "      <td></td>\n",
       "      <td>Sher Bahadur Deuba</td>\n",
       "      <td>74</td>\n",
       "    </tr>\n",
       "    <tr>\n",
       "      <td>100</td>\n",
       "      <td>Bam Dev Gautam</td>\n",
       "      <td>1948-07-09</td>\n",
       "      <td></td>\n",
       "      <td>Bam Dev Gautam</td>\n",
       "      <td>72</td>\n",
       "    </tr>\n",
       "    <tr>\n",
       "      <td>118</td>\n",
       "      <td>Kul Bahadur Gurung</td>\n",
       "      <td>1935-11-23</td>\n",
       "      <td></td>\n",
       "      <td>Kul Bahadur Gurung</td>\n",
       "      <td>84</td>\n",
       "    </tr>\n",
       "    <tr>\n",
       "      <td>123</td>\n",
       "      <td>Tek Bahadur Gurung</td>\n",
       "      <td>1954-11-26</td>\n",
       "      <td></td>\n",
       "      <td>Tek Bahadur Gurung</td>\n",
       "      <td>65</td>\n",
       "    </tr>\n",
       "    <tr>\n",
       "      <td>128</td>\n",
       "      <td>Anil Kumar Jha</td>\n",
       "      <td>1967-09-30</td>\n",
       "      <td></td>\n",
       "      <td>Anil Kumar Jha</td>\n",
       "      <td>53</td>\n",
       "    </tr>\n",
       "    <tr>\n",
       "      <td>134</td>\n",
       "      <td>Govinda Raj Joshi</td>\n",
       "      <td>1949-08-12</td>\n",
       "      <td></td>\n",
       "      <td>Govinda Raj Joshi</td>\n",
       "      <td>71</td>\n",
       "    </tr>\n",
       "    <tr>\n",
       "      <td>137</td>\n",
       "      <td>Nabindra Raj Joshi</td>\n",
       "      <td>1964-01-08</td>\n",
       "      <td></td>\n",
       "      <td>Nabindra Raj Joshi</td>\n",
       "      <td>56</td>\n",
       "    </tr>\n",
       "    <tr>\n",
       "      <td>149</td>\n",
       "      <td>Ram Karki</td>\n",
       "      <td>1956-10-16</td>\n",
       "      <td></td>\n",
       "      <td>Ram Karki</td>\n",
       "      <td>64</td>\n",
       "    </tr>\n",
       "    <tr>\n",
       "      <td>150</td>\n",
       "      <td>Sushila Karki</td>\n",
       "      <td>1952-06-07</td>\n",
       "      <td></td>\n",
       "      <td>Sushila Karki</td>\n",
       "      <td>68</td>\n",
       "    </tr>\n",
       "    <tr>\n",
       "      <td>156</td>\n",
       "      <td>Narayan Khadka</td>\n",
       "      <td>1949-03-20</td>\n",
       "      <td></td>\n",
       "      <td>Narayan Khadka</td>\n",
       "      <td>71</td>\n",
       "    </tr>\n",
       "    <tr>\n",
       "      <td>158</td>\n",
       "      <td>Jhala Nath Khanal</td>\n",
       "      <td>1950-05-20</td>\n",
       "      <td></td>\n",
       "      <td>Jhala Nath Khanal</td>\n",
       "      <td>70</td>\n",
       "    </tr>\n",
       "    <tr>\n",
       "      <td>162</td>\n",
       "      <td>Shekhar Koirala</td>\n",
       "      <td>1950-08-25</td>\n",
       "      <td></td>\n",
       "      <td>Shekhar Koirala</td>\n",
       "      <td>70</td>\n",
       "    </tr>\n",
       "    <tr>\n",
       "      <td>181</td>\n",
       "      <td>Krishna Bahadur Mahara</td>\n",
       "      <td>1958-06-29</td>\n",
       "      <td></td>\n",
       "      <td>Krishna Bahadur Mahara</td>\n",
       "      <td>62</td>\n",
       "    </tr>\n",
       "    <tr>\n",
       "      <td>182</td>\n",
       "      <td>Chandra Maharjan</td>\n",
       "      <td>1954-11-16</td>\n",
       "      <td></td>\n",
       "      <td>Chandra Maharjan</td>\n",
       "      <td>65</td>\n",
       "    </tr>\n",
       "    <tr>\n",
       "      <td>183</td>\n",
       "      <td>Ram Saran Mahat</td>\n",
       "      <td>1951-01-01</td>\n",
       "      <td></td>\n",
       "      <td>Ram Saran Mahat</td>\n",
       "      <td>69</td>\n",
       "    </tr>\n",
       "    <tr>\n",
       "      <td>185</td>\n",
       "      <td>Rajendra Mahato</td>\n",
       "      <td>1958-11-19</td>\n",
       "      <td></td>\n",
       "      <td>Rajendra Mahato</td>\n",
       "      <td>61</td>\n",
       "    </tr>\n",
       "    <tr>\n",
       "      <td>188</td>\n",
       "      <td>Radha Krishna Mainali</td>\n",
       "      <td>1946-09-26</td>\n",
       "      <td></td>\n",
       "      <td>Radha Krishna Mainali</td>\n",
       "      <td>74</td>\n",
       "    </tr>\n",
       "    <tr>\n",
       "      <td>196</td>\n",
       "      <td>Salma Khatoon Mikrani</td>\n",
       "      <td>1976-01-25</td>\n",
       "      <td></td>\n",
       "      <td>Salma Khatoon Mikrani</td>\n",
       "      <td>44</td>\n",
       "    </tr>\n",
       "    <tr>\n",
       "      <td>203</td>\n",
       "      <td>Madhav Kumar Nepal</td>\n",
       "      <td>1953-03-06</td>\n",
       "      <td></td>\n",
       "      <td>Madhav Kumar Nepal</td>\n",
       "      <td>67</td>\n",
       "    </tr>\n",
       "    <tr>\n",
       "      <td>210</td>\n",
       "      <td>KP Sharma Oli</td>\n",
       "      <td>1952-02-22</td>\n",
       "      <td></td>\n",
       "      <td>KP Sharma Oli</td>\n",
       "      <td>68</td>\n",
       "    </tr>\n",
       "    <tr>\n",
       "      <td>212</td>\n",
       "      <td>Bal Chandra Poudel</td>\n",
       "      <td>1959-06-22</td>\n",
       "      <td></td>\n",
       "      <td>Bal Chandra Poudel</td>\n",
       "      <td>61</td>\n",
       "    </tr>\n",
       "    <tr>\n",
       "      <td>213</td>\n",
       "      <td>Binda Pandey</td>\n",
       "      <td>1966-12-30</td>\n",
       "      <td></td>\n",
       "      <td>Binda Pandey</td>\n",
       "      <td>53</td>\n",
       "    </tr>\n",
       "    <tr>\n",
       "      <td>218</td>\n",
       "      <td>Surendra Pandey</td>\n",
       "      <td>1958-08-25</td>\n",
       "      <td></td>\n",
       "      <td>Surendra Pandey</td>\n",
       "      <td>62</td>\n",
       "    </tr>\n",
       "    <tr>\n",
       "      <td>223</td>\n",
       "      <td>Tilak Pariyar</td>\n",
       "      <td>1943-10-31</td>\n",
       "      <td></td>\n",
       "      <td>Tilak Pariyar</td>\n",
       "      <td>76</td>\n",
       "    </tr>\n",
       "    <tr>\n",
       "      <td>225</td>\n",
       "      <td>Ananta Prasad Paudel</td>\n",
       "      <td>1962-07-28</td>\n",
       "      <td></td>\n",
       "      <td>Ananta Prasad Paudel</td>\n",
       "      <td>58</td>\n",
       "    </tr>\n",
       "    <tr>\n",
       "      <td>226</td>\n",
       "      <td>Bishnu Prasad Paudel</td>\n",
       "      <td>1959-11-20</td>\n",
       "      <td></td>\n",
       "      <td>Bishnu Prasad Paudel</td>\n",
       "      <td>60</td>\n",
       "    </tr>\n",
       "    <tr>\n",
       "      <td>237</td>\n",
       "      <td>Shankar Pokharel</td>\n",
       "      <td>1963-02-27</td>\n",
       "      <td></td>\n",
       "      <td>Shankar Pokharel</td>\n",
       "      <td>57</td>\n",
       "    </tr>\n",
       "    <tr>\n",
       "      <td>249</td>\n",
       "      <td>Sher Dhan Rai</td>\n",
       "      <td>1971-02-23</td>\n",
       "      <td></td>\n",
       "      <td>Sher Dhan Rai</td>\n",
       "      <td>49</td>\n",
       "    </tr>\n",
       "    <tr>\n",
       "      <td>253</td>\n",
       "      <td>Lal Bahadur Rawal</td>\n",
       "      <td>1963-02-02</td>\n",
       "      <td></td>\n",
       "      <td>Lal Bahadur Rawal</td>\n",
       "      <td>57</td>\n",
       "    </tr>\n",
       "    <tr>\n",
       "      <td>258</td>\n",
       "      <td>Minendra Rijal</td>\n",
       "      <td>1957-10-01</td>\n",
       "      <td></td>\n",
       "      <td>Minendra Rijal</td>\n",
       "      <td>63</td>\n",
       "    </tr>\n",
       "    <tr>\n",
       "      <td>266</td>\n",
       "      <td>Agni Sapkota</td>\n",
       "      <td>1958-03-07</td>\n",
       "      <td></td>\n",
       "      <td>Agni Sapkota</td>\n",
       "      <td>62</td>\n",
       "    </tr>\n",
       "    <tr>\n",
       "      <td>292</td>\n",
       "      <td>Prakash Man Singh</td>\n",
       "      <td>1956-04-03</td>\n",
       "      <td></td>\n",
       "      <td>Prakash Man Singh</td>\n",
       "      <td>64</td>\n",
       "    </tr>\n",
       "    <tr>\n",
       "      <td>301</td>\n",
       "      <td>Dal Bahadur Sunar</td>\n",
       "      <td>1959-10-01</td>\n",
       "      <td></td>\n",
       "      <td>Dal Bahadur Sunar</td>\n",
       "      <td>61</td>\n",
       "    </tr>\n",
       "    <tr>\n",
       "      <td>304</td>\n",
       "      <td>Surya Man Dong Tamang</td>\n",
       "      <td>1970-04-20</td>\n",
       "      <td></td>\n",
       "      <td>Surya Man Dong Tamang</td>\n",
       "      <td>50</td>\n",
       "    </tr>\n",
       "    <tr>\n",
       "      <td>311</td>\n",
       "      <td>Gagan Thapa</td>\n",
       "      <td>1976-07-16</td>\n",
       "      <td></td>\n",
       "      <td>Gagan Thapa</td>\n",
       "      <td>44</td>\n",
       "    </tr>\n",
       "    <tr>\n",
       "      <td>323</td>\n",
       "      <td>Hridayesh Tripathi</td>\n",
       "      <td>1959-06-18</td>\n",
       "      <td></td>\n",
       "      <td>Hridayesh Tripathi</td>\n",
       "      <td>61</td>\n",
       "    </tr>\n",
       "    <tr>\n",
       "      <td>326</td>\n",
       "      <td>Amod Prasad Upadhyay</td>\n",
       "      <td>1936-03-29</td>\n",
       "      <td></td>\n",
       "      <td>Amod Prasad Upadhyay</td>\n",
       "      <td>84</td>\n",
       "    </tr>\n",
       "    <tr>\n",
       "      <td>333</td>\n",
       "      <td>Ram Baran Yadav</td>\n",
       "      <td>1948-02-04</td>\n",
       "      <td></td>\n",
       "      <td>Ram Baran Yadav</td>\n",
       "      <td>72</td>\n",
       "    </tr>\n",
       "    <tr>\n",
       "      <td>335</td>\n",
       "      <td>Upendra Yadav</td>\n",
       "      <td>1960-12-11</td>\n",
       "      <td></td>\n",
       "      <td>Upendra Yadav</td>\n",
       "      <td>59</td>\n",
       "    </tr>\n",
       "  </tbody>\n",
       "</table>\n",
       "</div>"
      ],
      "text/plain": [
       "                           Name        Bday Death                       Namen  \\\n",
       "4                  Bhim Acharya  1959-04-27                      Bhim Acharya   \n",
       "8                Mahesh Acharya  1954-08-06                    Mahesh Acharya   \n",
       "9              Narahari Acharya  1953-09-27                  Narahari Acharya   \n",
       "25         Dilendra Prasad Badu  1954-01-09              Dilendra Prasad Badu   \n",
       "28             Khadgajeet Baral  1928-04-17                  Khadgajeet Baral   \n",
       "34        Shakti Bahadur Basnet  1971-04-14             Shakti Bahadur Basnet   \n",
       "40             Damodar Bhandari  1973-11-05                  Damodar Bhandari   \n",
       "45                 Dev Raj Bhar  1952-01-29                      Dev Raj Bhar   \n",
       "47              Lekh Raj Bhatta  1960-03-24                   Lekh Raj Bhatta   \n",
       "48            Baburam Bhattarai  1954-06-18                 Baburam Bhattarai   \n",
       "50        Narayan Man Bijukchhe  1939-03-09             Narayan Man Bijukchhe   \n",
       "51   Khadga Bahadur Bishwakarma  1968-05-17        Khadga Bahadur Bishwakarma   \n",
       "66            Nar Bahadur Chand  1962-08-29                 Nar Bahadur Chand   \n",
       "89               Ranju Darshana  1996-03-03                    Ranju Darshana   \n",
       "90              Arzu Rana Deuba  1962-01-26                   Arzu Rana Deuba   \n",
       "91           Sher Bahadur Deuba  1946-09-12                Sher Bahadur Deuba   \n",
       "100              Bam Dev Gautam  1948-07-09                    Bam Dev Gautam   \n",
       "118          Kul Bahadur Gurung  1935-11-23                Kul Bahadur Gurung   \n",
       "123          Tek Bahadur Gurung  1954-11-26                Tek Bahadur Gurung   \n",
       "128              Anil Kumar Jha  1967-09-30                    Anil Kumar Jha   \n",
       "134           Govinda Raj Joshi  1949-08-12                 Govinda Raj Joshi   \n",
       "137          Nabindra Raj Joshi  1964-01-08                Nabindra Raj Joshi   \n",
       "149                   Ram Karki  1956-10-16                         Ram Karki   \n",
       "150               Sushila Karki  1952-06-07                     Sushila Karki   \n",
       "156              Narayan Khadka  1949-03-20                    Narayan Khadka   \n",
       "158           Jhala Nath Khanal  1950-05-20                 Jhala Nath Khanal   \n",
       "162             Shekhar Koirala  1950-08-25                   Shekhar Koirala   \n",
       "181      Krishna Bahadur Mahara  1958-06-29            Krishna Bahadur Mahara   \n",
       "182            Chandra Maharjan  1954-11-16                  Chandra Maharjan   \n",
       "183             Ram Saran Mahat  1951-01-01                   Ram Saran Mahat   \n",
       "185             Rajendra Mahato  1958-11-19                   Rajendra Mahato   \n",
       "188       Radha Krishna Mainali  1946-09-26             Radha Krishna Mainali   \n",
       "196       Salma Khatoon Mikrani  1976-01-25             Salma Khatoon Mikrani   \n",
       "203          Madhav Kumar Nepal  1953-03-06                Madhav Kumar Nepal   \n",
       "210               KP Sharma Oli  1952-02-22                     KP Sharma Oli   \n",
       "212          Bal Chandra Poudel  1959-06-22                Bal Chandra Poudel   \n",
       "213                Binda Pandey  1966-12-30                      Binda Pandey   \n",
       "218             Surendra Pandey  1958-08-25                   Surendra Pandey   \n",
       "223               Tilak Pariyar  1943-10-31                     Tilak Pariyar   \n",
       "225        Ananta Prasad Paudel  1962-07-28              Ananta Prasad Paudel   \n",
       "226        Bishnu Prasad Paudel  1959-11-20              Bishnu Prasad Paudel   \n",
       "237            Shankar Pokharel  1963-02-27                  Shankar Pokharel   \n",
       "249               Sher Dhan Rai  1971-02-23                     Sher Dhan Rai   \n",
       "253           Lal Bahadur Rawal  1963-02-02                 Lal Bahadur Rawal   \n",
       "258              Minendra Rijal  1957-10-01                    Minendra Rijal   \n",
       "266                Agni Sapkota  1958-03-07                      Agni Sapkota   \n",
       "292           Prakash Man Singh  1956-04-03                 Prakash Man Singh   \n",
       "301           Dal Bahadur Sunar  1959-10-01                 Dal Bahadur Sunar   \n",
       "304       Surya Man Dong Tamang  1970-04-20             Surya Man Dong Tamang   \n",
       "311                 Gagan Thapa  1976-07-16                       Gagan Thapa   \n",
       "323          Hridayesh Tripathi  1959-06-18                Hridayesh Tripathi   \n",
       "326        Amod Prasad Upadhyay  1936-03-29              Amod Prasad Upadhyay   \n",
       "333             Ram Baran Yadav  1948-02-04                   Ram Baran Yadav   \n",
       "335               Upendra Yadav  1960-12-11                     Upendra Yadav   \n",
       "\n",
       "     Age  \n",
       "4     61  \n",
       "8     66  \n",
       "9     67  \n",
       "25    66  \n",
       "28    92  \n",
       "34    49  \n",
       "40    46  \n",
       "45    68  \n",
       "47    60  \n",
       "48    66  \n",
       "50    81  \n",
       "51    52  \n",
       "66    58  \n",
       "89    24  \n",
       "90    58  \n",
       "91    74  \n",
       "100   72  \n",
       "118   84  \n",
       "123   65  \n",
       "128   53  \n",
       "134   71  \n",
       "137   56  \n",
       "149   64  \n",
       "150   68  \n",
       "156   71  \n",
       "158   70  \n",
       "162   70  \n",
       "181   62  \n",
       "182   65  \n",
       "183   69  \n",
       "185   61  \n",
       "188   74  \n",
       "196   44  \n",
       "203   67  \n",
       "210   68  \n",
       "212   61  \n",
       "213   53  \n",
       "218   62  \n",
       "223   76  \n",
       "225   58  \n",
       "226   60  \n",
       "237   57  \n",
       "249   49  \n",
       "253   57  \n",
       "258   63  \n",
       "266   62  \n",
       "292   64  \n",
       "301   61  \n",
       "304   50  \n",
       "311   44  \n",
       "323   61  \n",
       "326   84  \n",
       "333   72  \n",
       "335   59  "
      ]
     },
     "execution_count": 62,
     "metadata": {},
     "output_type": "execute_result"
    }
   ],
   "source": [
    "final_df"
   ]
  },
  {
   "cell_type": "code",
   "execution_count": 63,
   "metadata": {},
   "outputs": [
    {
     "data": {
      "text/plain": [
       "62.5"
      ]
     },
     "execution_count": 63,
     "metadata": {},
     "output_type": "execute_result"
    }
   ],
   "source": [
    "final_df['Age'].median()"
   ]
  },
  {
   "cell_type": "code",
   "execution_count": 64,
   "metadata": {},
   "outputs": [
    {
     "data": {
      "text/plain": [
       "62.870370370370374"
      ]
     },
     "execution_count": 64,
     "metadata": {},
     "output_type": "execute_result"
    }
   ],
   "source": [
    "final_df['Age'].mean()"
   ]
  },
  {
   "cell_type": "code",
   "execution_count": 65,
   "metadata": {},
   "outputs": [
    {
     "data": {
      "text/plain": [
       "54"
      ]
     },
     "execution_count": 65,
     "metadata": {},
     "output_type": "execute_result"
    }
   ],
   "source": [
    "final_df['Age'].count()"
   ]
  },
  {
   "cell_type": "code",
   "execution_count": null,
   "metadata": {},
   "outputs": [],
   "source": []
  }
 ],
 "metadata": {
  "kernelspec": {
   "display_name": "Python 3",
   "language": "python",
   "name": "python3"
  },
  "language_info": {
   "codemirror_mode": {
    "name": "ipython",
    "version": 3
   },
   "file_extension": ".py",
   "mimetype": "text/x-python",
   "name": "python",
   "nbconvert_exporter": "python",
   "pygments_lexer": "ipython3",
   "version": "3.7.4"
  }
 },
 "nbformat": 4,
 "nbformat_minor": 2
}
