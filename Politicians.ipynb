{
 "cells": [
  {
   "cell_type": "code",
   "execution_count": 1,
   "metadata": {},
   "outputs": [],
   "source": [
    "import urllib\n",
    "import requests\n",
    "from bs4 import BeautifulSoup\n",
    "import pandas as pd\n",
    "import re\n",
    "from datetime import datetime, date\n",
    "import random"
   ]
  },
  {
   "cell_type": "markdown",
   "metadata": {},
   "source": [
    "# Link Page"
   ]
  },
  {
   "cell_type": "markdown",
   "metadata": {},
   "source": [
    "<b>Scraping the page where the list of Nepalese Politicians is populated.<b>"
   ]
  },
  {
   "cell_type": "code",
   "execution_count": 2,
   "metadata": {},
   "outputs": [],
   "source": [
    "main_page = requests.get('https://en.wikipedia.org/wiki/List_of_Nepalese_politicians')"
   ]
  },
  {
   "cell_type": "code",
   "execution_count": 3,
   "metadata": {},
   "outputs": [],
   "source": [
    "main_soup = BeautifulSoup(main_page.content,\"html.parser\")"
   ]
  },
  {
   "cell_type": "code",
   "execution_count": 4,
   "metadata": {},
   "outputs": [],
   "source": [
    "# Uncomment the line below to see html of the page\n",
    "# print(main_soup.prettify())"
   ]
  },
  {
   "cell_type": "code",
   "execution_count": 5,
   "metadata": {},
   "outputs": [],
   "source": [
    "wiki_links = [] \n",
    "for link in main_soup.find_all('a',href=True):\n",
    "    wiki_links.append(link['href'])"
   ]
  },
  {
   "cell_type": "code",
   "execution_count": 6,
   "metadata": {},
   "outputs": [
    {
     "data": {
      "text/plain": [
       "['/wiki/Ram_Krishna_Tamrakar',\n",
       " '/wiki/Narayan_Singh_Pun',\n",
       " 'http://www.myrepublica.com/election/dr.php?dr=2',\n",
       " '#cite_ref-Tuladhar_115-0',\n",
       " '#I',\n",
       " '#cite_ref-82',\n",
       " '/w/index.php?title=Special:UserLogin&returnto=List+of+Nepalese+politicians',\n",
       " '#cite_ref-election1_17-37',\n",
       " '#cite_ref-76',\n",
       " '/wiki/Tek_Bahadur_Gurung']"
      ]
     },
     "execution_count": 6,
     "metadata": {},
     "output_type": "execute_result"
    }
   ],
   "source": [
    "random.sample(wiki_links, 10)"
   ]
  },
  {
   "cell_type": "code",
   "execution_count": 7,
   "metadata": {},
   "outputs": [],
   "source": [
    "import re\n",
    "poli_links = []\n",
    "for s in wiki_links:\n",
    "    if (re.search('\\A/wiki/',s)) != None:\n",
    "        poli_links.append(s)"
   ]
  },
  {
   "cell_type": "code",
   "execution_count": 8,
   "metadata": {},
   "outputs": [
    {
     "data": {
      "text/plain": [
       "['/wiki/Hari_Lal_Joshi',\n",
       " '/wiki/Urmila_Aryal',\n",
       " '/wiki/Sunil_Babu_Pant',\n",
       " '/wiki/Ranju_Darshana',\n",
       " '/wiki/Ishwar_Dayal_Mishra',\n",
       " '/wiki/Sudarshan_Baral',\n",
       " '/wiki/Dama_Kumari_Sharma',\n",
       " '/wiki/Kathmandu',\n",
       " '/wiki/Mohan_Prasad_Pandey',\n",
       " '/wiki/Santa_Kumar_Tharu']"
      ]
     },
     "execution_count": 8,
     "metadata": {},
     "output_type": "execute_result"
    }
   ],
   "source": [
    "random.sample(poli_links, 10)"
   ]
  },
  {
   "cell_type": "markdown",
   "metadata": {},
   "source": [
    "<b>We now have all links from the page (Wikipedia links like About,Home and politician links). We can select the politician links by slicing the list.<b>"
   ]
  },
  {
   "cell_type": "markdown",
   "metadata": {},
   "source": [
    "# Scraping - POC for single link "
   ]
  },
  {
   "cell_type": "markdown",
   "metadata": {},
   "source": [
    "<b> Getting Name and Date of birth of a single Politician. This is done as a proof of concept before writing the final function. </b>"
   ]
  },
  {
   "cell_type": "code",
   "execution_count": 9,
   "metadata": {},
   "outputs": [],
   "source": [
    "page = requests.get('https://en.wikipedia.org/wiki/Girija_Prasad_Koirala')"
   ]
  },
  {
   "cell_type": "code",
   "execution_count": 10,
   "metadata": {},
   "outputs": [],
   "source": [
    "soup_single= BeautifulSoup(page.content,'html.parser')"
   ]
  },
  {
   "cell_type": "code",
   "execution_count": 11,
   "metadata": {},
   "outputs": [],
   "source": [
    "# Uncomment the line below to see html of the page\n",
    "# print(soup_single.prettify())"
   ]
  },
  {
   "cell_type": "markdown",
   "metadata": {},
   "source": [
    "<b>Since the date of birth is stored in the right hand side box of each page, we select that element. </b>"
   ]
  },
  {
   "cell_type": "code",
   "execution_count": 12,
   "metadata": {},
   "outputs": [],
   "source": [
    "box_detail = soup_single.find_all('table',class_=[\"infobox vcard\"])"
   ]
  },
  {
   "cell_type": "code",
   "execution_count": 13,
   "metadata": {},
   "outputs": [],
   "source": [
    "bday = soup_single.find_all('span',class_=[\"bday\"])[0].string"
   ]
  },
  {
   "cell_type": "code",
   "execution_count": 14,
   "metadata": {},
   "outputs": [
    {
     "data": {
      "text/plain": [
       "'1924-07-04'"
      ]
     },
     "execution_count": 14,
     "metadata": {},
     "output_type": "execute_result"
    }
   ],
   "source": [
    "bday"
   ]
  },
  {
   "cell_type": "code",
   "execution_count": 15,
   "metadata": {},
   "outputs": [
    {
     "name": "stdout",
     "output_type": "stream",
     "text": [
      "20 March 2010\n"
     ]
    }
   ],
   "source": [
    "print (soup_single.find(text=\"Died\").findNext('td').contents[0])"
   ]
  },
  {
   "cell_type": "markdown",
   "metadata": {},
   "source": [
    "# Function"
   ]
  },
  {
   "cell_type": "code",
   "execution_count": 16,
   "metadata": {},
   "outputs": [],
   "source": [
    "def scrapebirth(links):\n",
    "    df = pd.DataFrame(columns=['Name','DOB','DOD'])\n",
    "    for l in links:\n",
    "        link = \"https://en.wikipedia.org\"+l \n",
    "        page = requests.get(link)\n",
    "        soup = BeautifulSoup(page.content, \"html.parser\")\n",
    "        \n",
    "        name = soup.find_all('title')[0].string\n",
    "        try:\n",
    "            bday = soup.find_all('span',class_=[\"bday\"])[0].string\n",
    "        except IndexError:\n",
    "            bday = \"\"\n",
    "#             print('IndexError')\n",
    "        try:\n",
    "            death = soup.find(text=\"Died\").findNext('td').contents[0]\n",
    "        except AttributeError:\n",
    "            death = \"\"\n",
    "#             print('AttributeError')\n",
    "        df = df.append({'Name': name,'DOB':bday,'DOD':death},ignore_index=True)\n",
    "        link = \"\"\n",
    "    return df"
   ]
  },
  {
   "cell_type": "markdown",
   "metadata": {},
   "source": [
    "<h3>The following line scrapes all links. Computation may take few minutes.</h3>"
   ]
  },
  {
   "cell_type": "code",
   "execution_count": 17,
   "metadata": {},
   "outputs": [],
   "source": [
    "my_df = scrapebirth(poli_links)"
   ]
  },
  {
   "cell_type": "code",
   "execution_count": 18,
   "metadata": {},
   "outputs": [
    {
     "data": {
      "text/html": [
       "<div>\n",
       "<style scoped>\n",
       "    .dataframe tbody tr th:only-of-type {\n",
       "        vertical-align: middle;\n",
       "    }\n",
       "\n",
       "    .dataframe tbody tr th {\n",
       "        vertical-align: top;\n",
       "    }\n",
       "\n",
       "    .dataframe thead th {\n",
       "        text-align: right;\n",
       "    }\n",
       "</style>\n",
       "<table border=\"1\" class=\"dataframe\">\n",
       "  <thead>\n",
       "    <tr style=\"text-align: right;\">\n",
       "      <th></th>\n",
       "      <th>Name</th>\n",
       "      <th>DOB</th>\n",
       "      <th>DOD</th>\n",
       "    </tr>\n",
       "  </thead>\n",
       "  <tbody>\n",
       "    <tr>\n",
       "      <td>256</td>\n",
       "      <td>Nagendra Kumar Ray - Wikipedia</td>\n",
       "      <td></td>\n",
       "      <td></td>\n",
       "    </tr>\n",
       "    <tr>\n",
       "      <td>252</td>\n",
       "      <td>Purna Prasad Rajbansi - Wikipedia</td>\n",
       "      <td></td>\n",
       "      <td></td>\n",
       "    </tr>\n",
       "    <tr>\n",
       "      <td>150</td>\n",
       "      <td>Kailash Nath Kasudhan - Wikipedia</td>\n",
       "      <td></td>\n",
       "      <td></td>\n",
       "    </tr>\n",
       "    <tr>\n",
       "      <td>61</td>\n",
       "      <td>Khem Bahadur Bum - Wikipedia</td>\n",
       "      <td></td>\n",
       "      <td></td>\n",
       "    </tr>\n",
       "    <tr>\n",
       "      <td>66</td>\n",
       "      <td>Renu Chand (Bhatt) - Wikipedia</td>\n",
       "      <td></td>\n",
       "      <td></td>\n",
       "    </tr>\n",
       "    <tr>\n",
       "      <td>10</td>\n",
       "      <td>Haribhakta Adhikari - Wikipedia</td>\n",
       "      <td></td>\n",
       "      <td></td>\n",
       "    </tr>\n",
       "    <tr>\n",
       "      <td>399</td>\n",
       "      <td>Talk:List of Nepalese politicians - Wikipedia</td>\n",
       "      <td></td>\n",
       "      <td></td>\n",
       "    </tr>\n",
       "    <tr>\n",
       "      <td>193</td>\n",
       "      <td>Farmulha Mansur - Wikipedia</td>\n",
       "      <td></td>\n",
       "      <td></td>\n",
       "    </tr>\n",
       "    <tr>\n",
       "      <td>51</td>\n",
       "      <td>Gokarna Bista - Wikipedia</td>\n",
       "      <td></td>\n",
       "      <td></td>\n",
       "    </tr>\n",
       "    <tr>\n",
       "      <td>111</td>\n",
       "      <td>Bhagwan Das Gupta - Wikipedia</td>\n",
       "      <td>1940-01-01</td>\n",
       "      <td>15 November 1998</td>\n",
       "    </tr>\n",
       "  </tbody>\n",
       "</table>\n",
       "</div>"
      ],
      "text/plain": [
       "                                              Name         DOB  \\\n",
       "256                 Nagendra Kumar Ray - Wikipedia               \n",
       "252              Purna Prasad Rajbansi - Wikipedia               \n",
       "150              Kailash Nath Kasudhan - Wikipedia               \n",
       "61                    Khem Bahadur Bum - Wikipedia               \n",
       "66                  Renu Chand (Bhatt) - Wikipedia               \n",
       "10                 Haribhakta Adhikari - Wikipedia               \n",
       "399  Talk:List of Nepalese politicians - Wikipedia               \n",
       "193                    Farmulha Mansur - Wikipedia               \n",
       "51                       Gokarna Bista - Wikipedia               \n",
       "111                  Bhagwan Das Gupta - Wikipedia  1940-01-01   \n",
       "\n",
       "                  DOD  \n",
       "256                    \n",
       "252                    \n",
       "150                    \n",
       "61                     \n",
       "66                     \n",
       "10                     \n",
       "399                    \n",
       "193                    \n",
       "51                     \n",
       "111  15 November 1998  "
      ]
     },
     "execution_count": 18,
     "metadata": {},
     "output_type": "execute_result"
    }
   ],
   "source": [
    "my_df.sample(10)"
   ]
  },
  {
   "cell_type": "markdown",
   "metadata": {},
   "source": [
    "## Clean dataframe"
   ]
  },
  {
   "cell_type": "code",
   "execution_count": 19,
   "metadata": {},
   "outputs": [],
   "source": [
    "my_df = my_df[my_df['DOB'].astype(bool)]"
   ]
  },
  {
   "cell_type": "code",
   "execution_count": 20,
   "metadata": {},
   "outputs": [],
   "source": [
    "my_df = my_df[:-18]"
   ]
  },
  {
   "cell_type": "code",
   "execution_count": 21,
   "metadata": {},
   "outputs": [],
   "source": [
    "df_poli = my_df.copy()"
   ]
  },
  {
   "cell_type": "code",
   "execution_count": 22,
   "metadata": {},
   "outputs": [],
   "source": [
    "df_poli['Name'] = df_poli['Name'].apply(lambda x:x[:-12])"
   ]
  },
  {
   "cell_type": "code",
   "execution_count": 23,
   "metadata": {},
   "outputs": [],
   "source": [
    "df_poli.set_index('Name',inplace=True)"
   ]
  },
  {
   "cell_type": "markdown",
   "metadata": {},
   "source": [
    "<h3>Filter politician that are dead</h3>"
   ]
  },
  {
   "cell_type": "code",
   "execution_count": 24,
   "metadata": {},
   "outputs": [
    {
     "data": {
      "text/html": [
       "<div>\n",
       "<style scoped>\n",
       "    .dataframe tbody tr th:only-of-type {\n",
       "        vertical-align: middle;\n",
       "    }\n",
       "\n",
       "    .dataframe tbody tr th {\n",
       "        vertical-align: top;\n",
       "    }\n",
       "\n",
       "    .dataframe thead th {\n",
       "        text-align: right;\n",
       "    }\n",
       "</style>\n",
       "<table border=\"1\" class=\"dataframe\">\n",
       "  <thead>\n",
       "    <tr style=\"text-align: right;\">\n",
       "      <th></th>\n",
       "      <th>DOB</th>\n",
       "      <th>DOD</th>\n",
       "    </tr>\n",
       "    <tr>\n",
       "      <th>Name</th>\n",
       "      <th></th>\n",
       "      <th></th>\n",
       "    </tr>\n",
       "  </thead>\n",
       "  <tbody>\n",
       "    <tr>\n",
       "      <td>Khadgajeet Baral</td>\n",
       "      <td>1928-04-17</td>\n",
       "      <td>May 19, 2021</td>\n",
       "    </tr>\n",
       "    <tr>\n",
       "      <td>Post Bahadur Bogati</td>\n",
       "      <td>1953-07-18</td>\n",
       "      <td>15 September 2014</td>\n",
       "    </tr>\n",
       "    <tr>\n",
       "      <td>Nar Bahadur Chand</td>\n",
       "      <td>1962-08-29</td>\n",
       "      <td>06 Simayal, Baitadi</td>\n",
       "    </tr>\n",
       "    <tr>\n",
       "      <td>Bhagwan Das Gupta</td>\n",
       "      <td>1940-01-01</td>\n",
       "      <td>15 November 1998</td>\n",
       "    </tr>\n",
       "    <tr>\n",
       "      <td>Nabindra Raj Joshi</td>\n",
       "      <td>1964-01-08</td>\n",
       "      <td>26 March 2021</td>\n",
       "    </tr>\n",
       "    <tr>\n",
       "      <td>Sushil Koirala</td>\n",
       "      <td>1939-08-12</td>\n",
       "      <td>9 February 2016</td>\n",
       "    </tr>\n",
       "    <tr>\n",
       "      <td>Dil Bahadur Lama</td>\n",
       "      <td>1930-03-21</td>\n",
       "      <td>25 March 2014</td>\n",
       "    </tr>\n",
       "    <tr>\n",
       "      <td>Bidhyanath Pokhrel</td>\n",
       "      <td>1918-06-09</td>\n",
       "      <td>25 August 1994</td>\n",
       "    </tr>\n",
       "    <tr>\n",
       "      <td>Sahana Pradhan</td>\n",
       "      <td>1927-06-17</td>\n",
       "      <td>22 September 2014</td>\n",
       "    </tr>\n",
       "    <tr>\n",
       "      <td>Ganesh Prasad Rijal</td>\n",
       "      <td>1920-05-11</td>\n",
       "      <td>4 April 1998</td>\n",
       "    </tr>\n",
       "    <tr>\n",
       "      <td>Surya Bahadur Thapa</td>\n",
       "      <td>1928-03-21</td>\n",
       "      <td>15 April 2015</td>\n",
       "    </tr>\n",
       "  </tbody>\n",
       "</table>\n",
       "</div>"
      ],
      "text/plain": [
       "                            DOB                  DOD\n",
       "Name                                                \n",
       "Khadgajeet Baral     1928-04-17         May 19, 2021\n",
       "Post Bahadur Bogati  1953-07-18    15 September 2014\n",
       "Nar Bahadur Chand    1962-08-29  06 Simayal, Baitadi\n",
       "Bhagwan Das Gupta    1940-01-01     15 November 1998\n",
       "Nabindra Raj Joshi   1964-01-08        26 March 2021\n",
       "Sushil Koirala       1939-08-12      9 February 2016\n",
       "Dil Bahadur Lama     1930-03-21        25 March 2014\n",
       "Bidhyanath Pokhrel   1918-06-09       25 August 1994\n",
       "Sahana Pradhan       1927-06-17    22 September 2014\n",
       "Ganesh Prasad Rijal  1920-05-11         4 April 1998\n",
       "Surya Bahadur Thapa  1928-03-21        15 April 2015"
      ]
     },
     "execution_count": 24,
     "metadata": {},
     "output_type": "execute_result"
    }
   ],
   "source": [
    "dead_poli = df_poli[df_poli.astype(str)['DOD'] != '']\n",
    "dead_poli"
   ]
  },
  {
   "cell_type": "code",
   "execution_count": 25,
   "metadata": {},
   "outputs": [
    {
     "data": {
      "text/html": [
       "<div>\n",
       "<style scoped>\n",
       "    .dataframe tbody tr th:only-of-type {\n",
       "        vertical-align: middle;\n",
       "    }\n",
       "\n",
       "    .dataframe tbody tr th {\n",
       "        vertical-align: top;\n",
       "    }\n",
       "\n",
       "    .dataframe thead th {\n",
       "        text-align: right;\n",
       "    }\n",
       "</style>\n",
       "<table border=\"1\" class=\"dataframe\">\n",
       "  <thead>\n",
       "    <tr style=\"text-align: right;\">\n",
       "      <th></th>\n",
       "      <th>DOB</th>\n",
       "      <th>DOD</th>\n",
       "    </tr>\n",
       "    <tr>\n",
       "      <th>Name</th>\n",
       "      <th></th>\n",
       "      <th></th>\n",
       "    </tr>\n",
       "  </thead>\n",
       "  <tbody>\n",
       "    <tr>\n",
       "      <td>Bhim Acharya</td>\n",
       "      <td>1959-04-27</td>\n",
       "      <td></td>\n",
       "    </tr>\n",
       "    <tr>\n",
       "      <td>Mahesh Acharya</td>\n",
       "      <td>1954-08-06</td>\n",
       "      <td></td>\n",
       "    </tr>\n",
       "    <tr>\n",
       "      <td>Mahadev Bajgai</td>\n",
       "      <td>1978-02-23</td>\n",
       "      <td></td>\n",
       "    </tr>\n",
       "    <tr>\n",
       "      <td>Narahari Acharya</td>\n",
       "      <td>1953-09-27</td>\n",
       "      <td></td>\n",
       "    </tr>\n",
       "    <tr>\n",
       "      <td>Dilendra Prasad Badu</td>\n",
       "      <td>1954-01-09</td>\n",
       "      <td></td>\n",
       "    </tr>\n",
       "  </tbody>\n",
       "</table>\n",
       "</div>"
      ],
      "text/plain": [
       "                             DOB DOD\n",
       "Name                                \n",
       "Bhim Acharya          1959-04-27    \n",
       "Mahesh Acharya        1954-08-06    \n",
       "Mahadev Bajgai        1978-02-23    \n",
       "Narahari Acharya      1953-09-27    \n",
       "Dilendra Prasad Badu  1954-01-09    "
      ]
     },
     "execution_count": 25,
     "metadata": {},
     "output_type": "execute_result"
    }
   ],
   "source": [
    "alive_poli = df_poli[~df_poli.index.isin(dead_poli.index)]\n",
    "alive_poli.head()"
   ]
  },
  {
   "cell_type": "code",
   "execution_count": 26,
   "metadata": {},
   "outputs": [],
   "source": [
    "def calculate_age(born):\n",
    "    b= datetime.strptime(born, '%Y-%m-%d')\n",
    "    today = date.today()\n",
    "    return today.year-b.year-((today.month, today.day) < (b.month, b.day))"
   ]
  },
  {
   "cell_type": "code",
   "execution_count": 27,
   "metadata": {
    "scrolled": true
   },
   "outputs": [],
   "source": [
    "final_df = alive_poli.copy()\n",
    "final_df['Age']= final_df['DOB'].apply(lambda x: calculate_age(x))"
   ]
  },
  {
   "cell_type": "code",
   "execution_count": 28,
   "metadata": {},
   "outputs": [
    {
     "data": {
      "text/plain": [
       "(61, 3)"
      ]
     },
     "execution_count": 28,
     "metadata": {},
     "output_type": "execute_result"
    }
   ],
   "source": [
    "final_df.shape"
   ]
  },
  {
   "cell_type": "code",
   "execution_count": 29,
   "metadata": {},
   "outputs": [
    {
     "data": {
      "text/html": [
       "<div>\n",
       "<style scoped>\n",
       "    .dataframe tbody tr th:only-of-type {\n",
       "        vertical-align: middle;\n",
       "    }\n",
       "\n",
       "    .dataframe tbody tr th {\n",
       "        vertical-align: top;\n",
       "    }\n",
       "\n",
       "    .dataframe thead th {\n",
       "        text-align: right;\n",
       "    }\n",
       "</style>\n",
       "<table border=\"1\" class=\"dataframe\">\n",
       "  <thead>\n",
       "    <tr style=\"text-align: right;\">\n",
       "      <th></th>\n",
       "      <th>DOB</th>\n",
       "      <th>DOD</th>\n",
       "      <th>Age</th>\n",
       "    </tr>\n",
       "    <tr>\n",
       "      <th>Name</th>\n",
       "      <th></th>\n",
       "      <th></th>\n",
       "      <th></th>\n",
       "    </tr>\n",
       "  </thead>\n",
       "  <tbody>\n",
       "    <tr>\n",
       "      <td>Bhim Acharya</td>\n",
       "      <td>1959-04-27</td>\n",
       "      <td></td>\n",
       "      <td>62</td>\n",
       "    </tr>\n",
       "    <tr>\n",
       "      <td>Mahesh Acharya</td>\n",
       "      <td>1954-08-06</td>\n",
       "      <td></td>\n",
       "      <td>67</td>\n",
       "    </tr>\n",
       "    <tr>\n",
       "      <td>Mahadev Bajgai</td>\n",
       "      <td>1978-02-23</td>\n",
       "      <td></td>\n",
       "      <td>43</td>\n",
       "    </tr>\n",
       "    <tr>\n",
       "      <td>Narahari Acharya</td>\n",
       "      <td>1953-09-27</td>\n",
       "      <td></td>\n",
       "      <td>68</td>\n",
       "    </tr>\n",
       "    <tr>\n",
       "      <td>Dilendra Prasad Badu</td>\n",
       "      <td>1954-01-09</td>\n",
       "      <td></td>\n",
       "      <td>67</td>\n",
       "    </tr>\n",
       "    <tr>\n",
       "      <td>...</td>\n",
       "      <td>...</td>\n",
       "      <td>...</td>\n",
       "      <td>...</td>\n",
       "    </tr>\n",
       "    <tr>\n",
       "      <td>Dal Bahadur Sunar</td>\n",
       "      <td>1959-10-01</td>\n",
       "      <td></td>\n",
       "      <td>62</td>\n",
       "    </tr>\n",
       "    <tr>\n",
       "      <td>Sher Bahadur Tamang</td>\n",
       "      <td>1969-03-28</td>\n",
       "      <td></td>\n",
       "      <td>52</td>\n",
       "    </tr>\n",
       "    <tr>\n",
       "      <td>Surya Man Dong Tamang</td>\n",
       "      <td>1970-04-20</td>\n",
       "      <td></td>\n",
       "      <td>51</td>\n",
       "    </tr>\n",
       "    <tr>\n",
       "      <td>Gagan Thapa</td>\n",
       "      <td>1976-07-16</td>\n",
       "      <td></td>\n",
       "      <td>45</td>\n",
       "    </tr>\n",
       "    <tr>\n",
       "      <td>Hridayesh Tripathi</td>\n",
       "      <td>1959-06-18</td>\n",
       "      <td></td>\n",
       "      <td>62</td>\n",
       "    </tr>\n",
       "  </tbody>\n",
       "</table>\n",
       "<p>61 rows × 3 columns</p>\n",
       "</div>"
      ],
      "text/plain": [
       "                              DOB DOD  Age\n",
       "Name                                      \n",
       "Bhim Acharya           1959-04-27       62\n",
       "Mahesh Acharya         1954-08-06       67\n",
       "Mahadev Bajgai         1978-02-23       43\n",
       "Narahari Acharya       1953-09-27       68\n",
       "Dilendra Prasad Badu   1954-01-09       67\n",
       "...                           ...  ..  ...\n",
       "Dal Bahadur Sunar      1959-10-01       62\n",
       "Sher Bahadur Tamang    1969-03-28       52\n",
       "Surya Man Dong Tamang  1970-04-20       51\n",
       "Gagan Thapa            1976-07-16       45\n",
       "Hridayesh Tripathi     1959-06-18       62\n",
       "\n",
       "[61 rows x 3 columns]"
      ]
     },
     "execution_count": 29,
     "metadata": {},
     "output_type": "execute_result"
    }
   ],
   "source": [
    "final_df"
   ]
  },
  {
   "cell_type": "code",
   "execution_count": 30,
   "metadata": {},
   "outputs": [
    {
     "data": {
      "text/plain": [
       "64.0"
      ]
     },
     "execution_count": 30,
     "metadata": {},
     "output_type": "execute_result"
    }
   ],
   "source": [
    "final_df['Age'].median()"
   ]
  },
  {
   "cell_type": "code",
   "execution_count": 31,
   "metadata": {},
   "outputs": [
    {
     "data": {
      "text/plain": [
       "62.9344262295082"
      ]
     },
     "execution_count": 31,
     "metadata": {},
     "output_type": "execute_result"
    }
   ],
   "source": [
    "final_df['Age'].mean()"
   ]
  },
  {
   "cell_type": "code",
   "execution_count": 32,
   "metadata": {},
   "outputs": [
    {
     "data": {
      "text/plain": [
       "61"
      ]
     },
     "execution_count": 32,
     "metadata": {},
     "output_type": "execute_result"
    }
   ],
   "source": [
    "final_df['Age'].count()"
   ]
  },
  {
   "cell_type": "code",
   "execution_count": 33,
   "metadata": {},
   "outputs": [],
   "source": [
    "df_poli.replace('','NA').to_csv('politician.csv')"
   ]
  },
  {
   "cell_type": "code",
   "execution_count": null,
   "metadata": {},
   "outputs": [],
   "source": []
  }
 ],
 "metadata": {
  "kernelspec": {
   "display_name": "Python 3",
   "language": "python",
   "name": "python3"
  },
  "language_info": {
   "codemirror_mode": {
    "name": "ipython",
    "version": 3
   },
   "file_extension": ".py",
   "mimetype": "text/x-python",
   "name": "python",
   "nbconvert_exporter": "python",
   "pygments_lexer": "ipython3",
   "version": "3.7.4"
  }
 },
 "nbformat": 4,
 "nbformat_minor": 2
}
